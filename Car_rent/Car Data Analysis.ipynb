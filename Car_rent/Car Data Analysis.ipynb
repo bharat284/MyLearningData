{
 "cells": [
  {
   "cell_type": "code",
   "execution_count": 757,
   "metadata": {},
   "outputs": [],
   "source": [
    "import os\n",
    "import pandas as pd\n",
    "import numpy as np\n",
    "import matplotlib.pyplot as plt\n",
    "%matplotlib inline\n",
    "import seaborn as sns\n",
    "\n",
    "from sklearn.preprocessing import StandardScaler\n",
    "\n",
    "from sklearn.model_selection import train_test_split"
   ]
  },
  {
   "cell_type": "code",
   "execution_count": 758,
   "metadata": {},
   "outputs": [
    {
     "data": {
      "text/plain": [
       "'C:\\\\Users\\\\SAI KRUPA\\\\Desktop\\\\Car_rent'"
      ]
     },
     "execution_count": 758,
     "metadata": {},
     "output_type": "execute_result"
    }
   ],
   "source": [
    "os.getcwd()"
   ]
  },
  {
   "cell_type": "code",
   "execution_count": null,
   "metadata": {},
   "outputs": [],
   "source": []
  },
  {
   "cell_type": "code",
   "execution_count": 759,
   "metadata": {},
   "outputs": [],
   "source": [
    "car_data= pd.read_csv(\"train_cab.csv\")"
   ]
  },
  {
   "cell_type": "code",
   "execution_count": 760,
   "metadata": {},
   "outputs": [
    {
     "data": {
      "text/html": [
       "<div>\n",
       "<style scoped>\n",
       "    .dataframe tbody tr th:only-of-type {\n",
       "        vertical-align: middle;\n",
       "    }\n",
       "\n",
       "    .dataframe tbody tr th {\n",
       "        vertical-align: top;\n",
       "    }\n",
       "\n",
       "    .dataframe thead th {\n",
       "        text-align: right;\n",
       "    }\n",
       "</style>\n",
       "<table border=\"1\" class=\"dataframe\">\n",
       "  <thead>\n",
       "    <tr style=\"text-align: right;\">\n",
       "      <th></th>\n",
       "      <th>pickup_datetime</th>\n",
       "      <th>pickup_longitude</th>\n",
       "      <th>pickup_latitude</th>\n",
       "      <th>dropoff_longitude</th>\n",
       "      <th>dropoff_latitude</th>\n",
       "      <th>passenger_count</th>\n",
       "      <th>fare_amount</th>\n",
       "    </tr>\n",
       "  </thead>\n",
       "  <tbody>\n",
       "    <tr>\n",
       "      <th>0</th>\n",
       "      <td>2009-06-15 17:26:21 UTC</td>\n",
       "      <td>-73.844311</td>\n",
       "      <td>40.721319</td>\n",
       "      <td>-73.841610</td>\n",
       "      <td>40.712278</td>\n",
       "      <td>1.0</td>\n",
       "      <td>4.5</td>\n",
       "    </tr>\n",
       "    <tr>\n",
       "      <th>1</th>\n",
       "      <td>2010-01-05 16:52:16 UTC</td>\n",
       "      <td>-74.016048</td>\n",
       "      <td>40.711303</td>\n",
       "      <td>-73.979268</td>\n",
       "      <td>40.782004</td>\n",
       "      <td>1.0</td>\n",
       "      <td>16.9</td>\n",
       "    </tr>\n",
       "    <tr>\n",
       "      <th>2</th>\n",
       "      <td>2011-08-18 00:35:00 UTC</td>\n",
       "      <td>-73.982738</td>\n",
       "      <td>40.761270</td>\n",
       "      <td>-73.991242</td>\n",
       "      <td>40.750562</td>\n",
       "      <td>2.0</td>\n",
       "      <td>5.7</td>\n",
       "    </tr>\n",
       "    <tr>\n",
       "      <th>3</th>\n",
       "      <td>2012-04-21 04:30:42 UTC</td>\n",
       "      <td>-73.987130</td>\n",
       "      <td>40.733143</td>\n",
       "      <td>-73.991567</td>\n",
       "      <td>40.758092</td>\n",
       "      <td>1.0</td>\n",
       "      <td>7.7</td>\n",
       "    </tr>\n",
       "    <tr>\n",
       "      <th>4</th>\n",
       "      <td>2010-03-09 07:51:00 UTC</td>\n",
       "      <td>-73.968095</td>\n",
       "      <td>40.768008</td>\n",
       "      <td>-73.956655</td>\n",
       "      <td>40.783762</td>\n",
       "      <td>1.0</td>\n",
       "      <td>5.3</td>\n",
       "    </tr>\n",
       "  </tbody>\n",
       "</table>\n",
       "</div>"
      ],
      "text/plain": [
       "           pickup_datetime  pickup_longitude  pickup_latitude  \\\n",
       "0  2009-06-15 17:26:21 UTC        -73.844311        40.721319   \n",
       "1  2010-01-05 16:52:16 UTC        -74.016048        40.711303   \n",
       "2  2011-08-18 00:35:00 UTC        -73.982738        40.761270   \n",
       "3  2012-04-21 04:30:42 UTC        -73.987130        40.733143   \n",
       "4  2010-03-09 07:51:00 UTC        -73.968095        40.768008   \n",
       "\n",
       "   dropoff_longitude  dropoff_latitude  passenger_count fare_amount  \n",
       "0         -73.841610         40.712278              1.0         4.5  \n",
       "1         -73.979268         40.782004              1.0        16.9  \n",
       "2         -73.991242         40.750562              2.0         5.7  \n",
       "3         -73.991567         40.758092              1.0         7.7  \n",
       "4         -73.956655         40.783762              1.0         5.3  "
      ]
     },
     "execution_count": 760,
     "metadata": {},
     "output_type": "execute_result"
    }
   ],
   "source": [
    "car_data.head()"
   ]
  },
  {
   "cell_type": "code",
   "execution_count": 761,
   "metadata": {},
   "outputs": [
    {
     "data": {
      "text/plain": [
       "(16067, 7)"
      ]
     },
     "execution_count": 761,
     "metadata": {},
     "output_type": "execute_result"
    }
   ],
   "source": [
    "car_data.shape"
   ]
  },
  {
   "cell_type": "code",
   "execution_count": 762,
   "metadata": {},
   "outputs": [
    {
     "name": "stdout",
     "output_type": "stream",
     "text": [
      "<class 'pandas.core.frame.DataFrame'>\n",
      "RangeIndex: 16067 entries, 0 to 16066\n",
      "Data columns (total 7 columns):\n",
      "pickup_datetime      16067 non-null object\n",
      "pickup_longitude     16067 non-null float64\n",
      "pickup_latitude      16067 non-null float64\n",
      "dropoff_longitude    16067 non-null float64\n",
      "dropoff_latitude     16067 non-null float64\n",
      "passenger_count      16012 non-null float64\n",
      "fare_amount          16043 non-null object\n",
      "dtypes: float64(5), object(2)\n",
      "memory usage: 878.7+ KB\n"
     ]
    }
   ],
   "source": [
    "car_data.info()"
   ]
  },
  {
   "cell_type": "code",
   "execution_count": 763,
   "metadata": {},
   "outputs": [],
   "source": [
    "#car_data['fare_amount'] = car_data['fare_amount'].astype(float)"
   ]
  },
  {
   "cell_type": "code",
   "execution_count": 764,
   "metadata": {},
   "outputs": [
    {
     "data": {
      "text/html": [
       "<div>\n",
       "<style scoped>\n",
       "    .dataframe tbody tr th:only-of-type {\n",
       "        vertical-align: middle;\n",
       "    }\n",
       "\n",
       "    .dataframe tbody tr th {\n",
       "        vertical-align: top;\n",
       "    }\n",
       "\n",
       "    .dataframe thead th {\n",
       "        text-align: right;\n",
       "    }\n",
       "</style>\n",
       "<table border=\"1\" class=\"dataframe\">\n",
       "  <thead>\n",
       "    <tr style=\"text-align: right;\">\n",
       "      <th></th>\n",
       "      <th>pickup_datetime</th>\n",
       "      <th>pickup_longitude</th>\n",
       "      <th>pickup_latitude</th>\n",
       "      <th>dropoff_longitude</th>\n",
       "      <th>dropoff_latitude</th>\n",
       "      <th>passenger_count</th>\n",
       "      <th>fare_amount</th>\n",
       "    </tr>\n",
       "  </thead>\n",
       "  <tbody>\n",
       "    <tr>\n",
       "      <th>1123</th>\n",
       "      <td>2009-09-22 19:01:01 UTC</td>\n",
       "      <td>-73.97961</td>\n",
       "      <td>40.771326</td>\n",
       "      <td>-73.975764</td>\n",
       "      <td>40.781965</td>\n",
       "      <td>1.0</td>\n",
       "      <td>430-</td>\n",
       "    </tr>\n",
       "  </tbody>\n",
       "</table>\n",
       "</div>"
      ],
      "text/plain": [
       "              pickup_datetime  pickup_longitude  pickup_latitude  \\\n",
       "1123  2009-09-22 19:01:01 UTC         -73.97961        40.771326   \n",
       "\n",
       "      dropoff_longitude  dropoff_latitude  passenger_count fare_amount  \n",
       "1123         -73.975764         40.781965              1.0        430-  "
      ]
     },
     "execution_count": 764,
     "metadata": {},
     "output_type": "execute_result"
    }
   ],
   "source": [
    "car_data[car_data.fare_amount =='430-']"
   ]
  },
  {
   "cell_type": "code",
   "execution_count": 765,
   "metadata": {},
   "outputs": [
    {
     "name": "stderr",
     "output_type": "stream",
     "text": [
      "C:\\Users\\SAI KRUPA\\Anaconda3\\lib\\site-packages\\ipykernel_launcher.py:1: SettingWithCopyWarning: \n",
      "A value is trying to be set on a copy of a slice from a DataFrame\n",
      "\n",
      "See the caveats in the documentation: http://pandas.pydata.org/pandas-docs/stable/indexing.html#indexing-view-versus-copy\n",
      "  \"\"\"Entry point for launching an IPython kernel.\n"
     ]
    }
   ],
   "source": [
    "car_data.fare_amount[1123] = np.nan"
   ]
  },
  {
   "cell_type": "code",
   "execution_count": 766,
   "metadata": {},
   "outputs": [],
   "source": [
    "car_data['fare_amount'] = car_data['fare_amount'].astype(float)"
   ]
  },
  {
   "cell_type": "markdown",
   "metadata": {},
   "source": [
    "# Missing value analysis"
   ]
  },
  {
   "cell_type": "code",
   "execution_count": 767,
   "metadata": {},
   "outputs": [
    {
     "data": {
      "text/plain": [
       "pickup_datetime       0\n",
       "pickup_longitude      0\n",
       "pickup_latitude       0\n",
       "dropoff_longitude     0\n",
       "dropoff_latitude      0\n",
       "passenger_count      55\n",
       "fare_amount          25\n",
       "dtype: int64"
      ]
     },
     "execution_count": 767,
     "metadata": {},
     "output_type": "execute_result"
    }
   ],
   "source": [
    "car_data.isnull().sum()"
   ]
  },
  {
   "cell_type": "code",
   "execution_count": 768,
   "metadata": {},
   "outputs": [],
   "source": [
    "null_value = pd.DataFrame(((car_data.isnull().sum())/len(car_data))*100)"
   ]
  },
  {
   "cell_type": "code",
   "execution_count": 769,
   "metadata": {},
   "outputs": [],
   "source": [
    "null_value.index.name = \"Variables\"\n",
    "null_value.columns = [\"Percentage of missing value\"]\n",
    "null_value.reset_index(inplace =True)"
   ]
  },
  {
   "cell_type": "code",
   "execution_count": 770,
   "metadata": {},
   "outputs": [
    {
     "data": {
      "text/html": [
       "<div>\n",
       "<style scoped>\n",
       "    .dataframe tbody tr th:only-of-type {\n",
       "        vertical-align: middle;\n",
       "    }\n",
       "\n",
       "    .dataframe tbody tr th {\n",
       "        vertical-align: top;\n",
       "    }\n",
       "\n",
       "    .dataframe thead th {\n",
       "        text-align: right;\n",
       "    }\n",
       "</style>\n",
       "<table border=\"1\" class=\"dataframe\">\n",
       "  <thead>\n",
       "    <tr style=\"text-align: right;\">\n",
       "      <th></th>\n",
       "      <th>Variables</th>\n",
       "      <th>Percentage of missing value</th>\n",
       "    </tr>\n",
       "  </thead>\n",
       "  <tbody>\n",
       "    <tr>\n",
       "      <th>0</th>\n",
       "      <td>pickup_datetime</td>\n",
       "      <td>0.000000</td>\n",
       "    </tr>\n",
       "    <tr>\n",
       "      <th>1</th>\n",
       "      <td>pickup_longitude</td>\n",
       "      <td>0.000000</td>\n",
       "    </tr>\n",
       "    <tr>\n",
       "      <th>2</th>\n",
       "      <td>pickup_latitude</td>\n",
       "      <td>0.000000</td>\n",
       "    </tr>\n",
       "    <tr>\n",
       "      <th>3</th>\n",
       "      <td>dropoff_longitude</td>\n",
       "      <td>0.000000</td>\n",
       "    </tr>\n",
       "    <tr>\n",
       "      <th>4</th>\n",
       "      <td>dropoff_latitude</td>\n",
       "      <td>0.000000</td>\n",
       "    </tr>\n",
       "    <tr>\n",
       "      <th>5</th>\n",
       "      <td>passenger_count</td>\n",
       "      <td>0.342317</td>\n",
       "    </tr>\n",
       "    <tr>\n",
       "      <th>6</th>\n",
       "      <td>fare_amount</td>\n",
       "      <td>0.155598</td>\n",
       "    </tr>\n",
       "  </tbody>\n",
       "</table>\n",
       "</div>"
      ],
      "text/plain": [
       "           Variables  Percentage of missing value\n",
       "0    pickup_datetime                     0.000000\n",
       "1   pickup_longitude                     0.000000\n",
       "2    pickup_latitude                     0.000000\n",
       "3  dropoff_longitude                     0.000000\n",
       "4   dropoff_latitude                     0.000000\n",
       "5    passenger_count                     0.342317\n",
       "6        fare_amount                     0.155598"
      ]
     },
     "execution_count": 770,
     "metadata": {},
     "output_type": "execute_result"
    }
   ],
   "source": [
    "null_value"
   ]
  },
  {
   "cell_type": "code",
   "execution_count": 771,
   "metadata": {},
   "outputs": [
    {
     "data": {
      "text/plain": [
       "<matplotlib.axes._subplots.AxesSubplot at 0x143db630>"
      ]
     },
     "execution_count": 771,
     "metadata": {},
     "output_type": "execute_result"
    },
    {
     "data": {
      "image/png": "[encoded data removed]",
      "text/plain": [
       "<matplotlib.figure.Figure at 0x1ad004e0>"
      ]
     },
     "metadata": {},
     "output_type": "display_data"
    }
   ],
   "source": [
    "#Ploting the null value % in dataset by variable.\n",
    "plt.subplots(figsize = (12,4))\n",
    "sns.barplot(null_value['Variables'],null_value['Percentage of missing value'])\n"
   ]
  },
  {
   "cell_type": "code",
   "execution_count": 772,
   "metadata": {},
   "outputs": [],
   "source": [
    "#sns.heatmap(car_data.isnull(),yticklabels = False, cbar = False)"
   ]
  },
  {
   "cell_type": "code",
   "execution_count": 773,
   "metadata": {},
   "outputs": [],
   "source": [
    "#car_data['passenger_count'].value_counts()"
   ]
  },
  {
   "cell_type": "code",
   "execution_count": 774,
   "metadata": {},
   "outputs": [],
   "source": [
    "#Drop the observations which contain null value.\n",
    "car_data= car_data.dropna()"
   ]
  },
  {
   "cell_type": "code",
   "execution_count": 775,
   "metadata": {},
   "outputs": [
    {
     "data": {
      "text/plain": [
       "(15987, 7)"
      ]
     },
     "execution_count": 775,
     "metadata": {},
     "output_type": "execute_result"
    }
   ],
   "source": [
    "car_data.shape"
   ]
  },
  {
   "cell_type": "code",
   "execution_count": 776,
   "metadata": {},
   "outputs": [
    {
     "data": {
      "text/html": [
       "<div>\n",
       "<style scoped>\n",
       "    .dataframe tbody tr th:only-of-type {\n",
       "        vertical-align: middle;\n",
       "    }\n",
       "\n",
       "    .dataframe tbody tr th {\n",
       "        vertical-align: top;\n",
       "    }\n",
       "\n",
       "    .dataframe thead th {\n",
       "        text-align: right;\n",
       "    }\n",
       "</style>\n",
       "<table border=\"1\" class=\"dataframe\">\n",
       "  <thead>\n",
       "    <tr style=\"text-align: right;\">\n",
       "      <th>Variables</th>\n",
       "      <th>pickup_longitude</th>\n",
       "      <th>pickup_latitude</th>\n",
       "      <th>dropoff_longitude</th>\n",
       "      <th>dropoff_latitude</th>\n",
       "      <th>passenger_count</th>\n",
       "      <th>fare_amount</th>\n",
       "    </tr>\n",
       "  </thead>\n",
       "  <tbody>\n",
       "    <tr>\n",
       "      <th>count</th>\n",
       "      <td>15987.000000</td>\n",
       "      <td>15987.000000</td>\n",
       "      <td>15987.000000</td>\n",
       "      <td>15987.000000</td>\n",
       "      <td>15987.000000</td>\n",
       "      <td>15987.000000</td>\n",
       "    </tr>\n",
       "    <tr>\n",
       "      <th>mean</th>\n",
       "      <td>-72.464447</td>\n",
       "      <td>39.915627</td>\n",
       "      <td>-72.464005</td>\n",
       "      <td>39.898725</td>\n",
       "      <td>2.623170</td>\n",
       "      <td>15.030232</td>\n",
       "    </tr>\n",
       "    <tr>\n",
       "      <th>std</th>\n",
       "      <td>10.573270</td>\n",
       "      <td>6.828818</td>\n",
       "      <td>10.569932</td>\n",
       "      <td>6.186185</td>\n",
       "      <td>60.890237</td>\n",
       "      <td>431.200458</td>\n",
       "    </tr>\n",
       "    <tr>\n",
       "      <th>min</th>\n",
       "      <td>-74.438233</td>\n",
       "      <td>-74.006893</td>\n",
       "      <td>-74.429332</td>\n",
       "      <td>-74.006377</td>\n",
       "      <td>0.000000</td>\n",
       "      <td>-3.000000</td>\n",
       "    </tr>\n",
       "    <tr>\n",
       "      <th>25%</th>\n",
       "      <td>-73.992143</td>\n",
       "      <td>40.734927</td>\n",
       "      <td>-73.991182</td>\n",
       "      <td>40.734651</td>\n",
       "      <td>1.000000</td>\n",
       "      <td>6.000000</td>\n",
       "    </tr>\n",
       "    <tr>\n",
       "      <th>50%</th>\n",
       "      <td>-73.981693</td>\n",
       "      <td>40.752603</td>\n",
       "      <td>-73.980168</td>\n",
       "      <td>40.753557</td>\n",
       "      <td>1.000000</td>\n",
       "      <td>8.500000</td>\n",
       "    </tr>\n",
       "    <tr>\n",
       "      <th>75%</th>\n",
       "      <td>-73.966819</td>\n",
       "      <td>40.767353</td>\n",
       "      <td>-73.963644</td>\n",
       "      <td>40.768005</td>\n",
       "      <td>2.000000</td>\n",
       "      <td>12.500000</td>\n",
       "    </tr>\n",
       "    <tr>\n",
       "      <th>max</th>\n",
       "      <td>40.766125</td>\n",
       "      <td>401.083332</td>\n",
       "      <td>40.802437</td>\n",
       "      <td>41.366138</td>\n",
       "      <td>5345.000000</td>\n",
       "      <td>54343.000000</td>\n",
       "    </tr>\n",
       "  </tbody>\n",
       "</table>\n",
       "</div>"
      ],
      "text/plain": [
       "Variables  pickup_longitude  pickup_latitude  dropoff_longitude  \\\n",
       "count          15987.000000     15987.000000       15987.000000   \n",
       "mean             -72.464447        39.915627         -72.464005   \n",
       "std               10.573270         6.828818          10.569932   \n",
       "min              -74.438233       -74.006893         -74.429332   \n",
       "25%              -73.992143        40.734927         -73.991182   \n",
       "50%              -73.981693        40.752603         -73.980168   \n",
       "75%              -73.966819        40.767353         -73.963644   \n",
       "max               40.766125       401.083332          40.802437   \n",
       "\n",
       "Variables  dropoff_latitude  passenger_count   fare_amount  \n",
       "count          15987.000000     15987.000000  15987.000000  \n",
       "mean              39.898725         2.623170     15.030232  \n",
       "std                6.186185        60.890237    431.200458  \n",
       "min              -74.006377         0.000000     -3.000000  \n",
       "25%               40.734651         1.000000      6.000000  \n",
       "50%               40.753557         1.000000      8.500000  \n",
       "75%               40.768005         2.000000     12.500000  \n",
       "max               41.366138      5345.000000  54343.000000  "
      ]
     },
     "execution_count": 776,
     "metadata": {},
     "output_type": "execute_result"
    }
   ],
   "source": [
    "car_data.describe()"
   ]
  },
  {
   "cell_type": "code",
   "execution_count": 777,
   "metadata": {},
   "outputs": [
    {
     "name": "stdout",
     "output_type": "stream",
     "text": [
      "<class 'pandas.core.frame.DataFrame'>\n",
      "Int64Index: 15987 entries, 0 to 16065\n",
      "Data columns (total 7 columns):\n",
      "pickup_datetime      15987 non-null object\n",
      "pickup_longitude     15987 non-null float64\n",
      "pickup_latitude      15987 non-null float64\n",
      "dropoff_longitude    15987 non-null float64\n",
      "dropoff_latitude     15987 non-null float64\n",
      "passenger_count      15987 non-null float64\n",
      "fare_amount          15987 non-null float64\n",
      "dtypes: float64(6), object(1)\n",
      "memory usage: 999.2+ KB\n"
     ]
    }
   ],
   "source": [
    "car_data.info()"
   ]
  },
  {
   "cell_type": "code",
   "execution_count": 778,
   "metadata": {},
   "outputs": [],
   "source": [
    "#car_data['fare_amount'] = car_data['fare_amount'].astype(float)\n",
    "#car_data['passenger_count'] = car_data['passenger_count'] .astype(object)"
   ]
  },
  {
   "cell_type": "code",
   "execution_count": 779,
   "metadata": {},
   "outputs": [],
   "source": [
    "#car_data['passenger_count'] = car_data['passenger_count'].fillna(car_data['passenger_count'].mode()[0])\n",
    "#car_data['fare_amount'] = car_data['fare_amount'].fillna(car_data['fare_amount'].mean())"
   ]
  },
  {
   "cell_type": "code",
   "execution_count": 780,
   "metadata": {},
   "outputs": [
    {
     "data": {
      "text/plain": [
       "Variables\n",
       "pickup_datetime      0\n",
       "pickup_longitude     0\n",
       "pickup_latitude      0\n",
       "dropoff_longitude    0\n",
       "dropoff_latitude     0\n",
       "passenger_count      0\n",
       "fare_amount          0\n",
       "dtype: int64"
      ]
     },
     "execution_count": 780,
     "metadata": {},
     "output_type": "execute_result"
    }
   ],
   "source": [
    "car_data.isnull().sum()"
   ]
  },
  {
   "cell_type": "code",
   "execution_count": 781,
   "metadata": {},
   "outputs": [
    {
     "data": {
      "text/plain": [
       "(15987, 7)"
      ]
     },
     "execution_count": 781,
     "metadata": {},
     "output_type": "execute_result"
    }
   ],
   "source": [
    "car_data.shape"
   ]
  },
  {
   "cell_type": "markdown",
   "metadata": {},
   "source": [
    "# Outlier analysis"
   ]
  },
  {
   "cell_type": "code",
   "execution_count": 782,
   "metadata": {},
   "outputs": [
    {
     "data": {
      "text/plain": [
       "Index(['pickup_datetime', 'pickup_longitude', 'pickup_latitude',\n",
       "       'dropoff_longitude', 'dropoff_latitude', 'passenger_count',\n",
       "       'fare_amount'],\n",
       "      dtype='object', name='Variables')"
      ]
     },
     "execution_count": 782,
     "metadata": {},
     "output_type": "execute_result"
    }
   ],
   "source": [
    "car_data.columns"
   ]
  },
  {
   "cell_type": "code",
   "execution_count": 783,
   "metadata": {},
   "outputs": [
    {
     "name": "stdout",
     "output_type": "stream",
     "text": [
      "<class 'pandas.core.frame.DataFrame'>\n",
      "Int64Index: 15987 entries, 0 to 16065\n",
      "Data columns (total 7 columns):\n",
      "pickup_datetime      15987 non-null object\n",
      "pickup_longitude     15987 non-null float64\n",
      "pickup_latitude      15987 non-null float64\n",
      "dropoff_longitude    15987 non-null float64\n",
      "dropoff_latitude     15987 non-null float64\n",
      "passenger_count      15987 non-null float64\n",
      "fare_amount          15987 non-null float64\n",
      "dtypes: float64(6), object(1)\n",
      "memory usage: 999.2+ KB\n"
     ]
    }
   ],
   "source": [
    "car_data.info()"
   ]
  },
  {
   "cell_type": "code",
   "execution_count": 784,
   "metadata": {},
   "outputs": [],
   "source": [
    "columns = ['fare_amount', 'pickup_longitude', 'pickup_latitude',\n",
    "       'dropoff_longitude', 'dropoff_latitude']\n",
    "#col_data = car_data[columns].head()"
   ]
  },
  {
   "cell_type": "code",
   "execution_count": 785,
   "metadata": {},
   "outputs": [
    {
     "data": {
      "text/plain": [
       "['dropoff_latitude',\n",
       " 'dropoff_longitude',\n",
       " 'fare_amount',\n",
       " 'passenger_count',\n",
       " 'pickup_datetime',\n",
       " 'pickup_latitude',\n",
       " 'pickup_longitude']"
      ]
     },
     "execution_count": 785,
     "metadata": {},
     "output_type": "execute_result"
    }
   ],
   "source": [
    "sorted(car_data)"
   ]
  },
  {
   "cell_type": "code",
   "execution_count": 786,
   "metadata": {},
   "outputs": [
    {
     "data": {
      "text/plain": [
       "<matplotlib.axes._subplots.AxesSubplot at 0x147572b0>"
      ]
     },
     "execution_count": 786,
     "metadata": {},
     "output_type": "execute_result"
    },
    {
     "data": {
      "image/png": "[encoded data removed]",
      "text/plain": [
       "<matplotlib.figure.Figure at 0x14754cc0>"
      ]
     },
     "metadata": {},
     "output_type": "display_data"
    }
   ],
   "source": [
    "car_data.boxplot(figsize = (12,4))"
   ]
  },
  {
   "cell_type": "code",
   "execution_count": 787,
   "metadata": {},
   "outputs": [
    {
     "data": {
      "text/html": [
       "<div>\n",
       "<style scoped>\n",
       "    .dataframe tbody tr th:only-of-type {\n",
       "        vertical-align: middle;\n",
       "    }\n",
       "\n",
       "    .dataframe tbody tr th {\n",
       "        vertical-align: top;\n",
       "    }\n",
       "\n",
       "    .dataframe thead th {\n",
       "        text-align: right;\n",
       "    }\n",
       "</style>\n",
       "<table border=\"1\" class=\"dataframe\">\n",
       "  <thead>\n",
       "    <tr style=\"text-align: right;\">\n",
       "      <th>Variables</th>\n",
       "      <th>pickup_datetime</th>\n",
       "      <th>pickup_longitude</th>\n",
       "      <th>pickup_latitude</th>\n",
       "      <th>dropoff_longitude</th>\n",
       "      <th>dropoff_latitude</th>\n",
       "      <th>passenger_count</th>\n",
       "      <th>fare_amount</th>\n",
       "    </tr>\n",
       "  </thead>\n",
       "  <tbody>\n",
       "    <tr>\n",
       "      <th>0</th>\n",
       "      <td>2009-06-15 17:26:21 UTC</td>\n",
       "      <td>-73.844311</td>\n",
       "      <td>40.721319</td>\n",
       "      <td>-73.841610</td>\n",
       "      <td>40.712278</td>\n",
       "      <td>1.0</td>\n",
       "      <td>4.5</td>\n",
       "    </tr>\n",
       "    <tr>\n",
       "      <th>1</th>\n",
       "      <td>2010-01-05 16:52:16 UTC</td>\n",
       "      <td>-74.016048</td>\n",
       "      <td>40.711303</td>\n",
       "      <td>-73.979268</td>\n",
       "      <td>40.782004</td>\n",
       "      <td>1.0</td>\n",
       "      <td>16.9</td>\n",
       "    </tr>\n",
       "    <tr>\n",
       "      <th>2</th>\n",
       "      <td>2011-08-18 00:35:00 UTC</td>\n",
       "      <td>-73.982738</td>\n",
       "      <td>40.761270</td>\n",
       "      <td>-73.991242</td>\n",
       "      <td>40.750562</td>\n",
       "      <td>2.0</td>\n",
       "      <td>5.7</td>\n",
       "    </tr>\n",
       "    <tr>\n",
       "      <th>3</th>\n",
       "      <td>2012-04-21 04:30:42 UTC</td>\n",
       "      <td>-73.987130</td>\n",
       "      <td>40.733143</td>\n",
       "      <td>-73.991567</td>\n",
       "      <td>40.758092</td>\n",
       "      <td>1.0</td>\n",
       "      <td>7.7</td>\n",
       "    </tr>\n",
       "    <tr>\n",
       "      <th>4</th>\n",
       "      <td>2010-03-09 07:51:00 UTC</td>\n",
       "      <td>-73.968095</td>\n",
       "      <td>40.768008</td>\n",
       "      <td>-73.956655</td>\n",
       "      <td>40.783762</td>\n",
       "      <td>1.0</td>\n",
       "      <td>5.3</td>\n",
       "    </tr>\n",
       "  </tbody>\n",
       "</table>\n",
       "</div>"
      ],
      "text/plain": [
       "Variables          pickup_datetime  pickup_longitude  pickup_latitude  \\\n",
       "0          2009-06-15 17:26:21 UTC        -73.844311        40.721319   \n",
       "1          2010-01-05 16:52:16 UTC        -74.016048        40.711303   \n",
       "2          2011-08-18 00:35:00 UTC        -73.982738        40.761270   \n",
       "3          2012-04-21 04:30:42 UTC        -73.987130        40.733143   \n",
       "4          2010-03-09 07:51:00 UTC        -73.968095        40.768008   \n",
       "\n",
       "Variables  dropoff_longitude  dropoff_latitude  passenger_count  fare_amount  \n",
       "0                 -73.841610         40.712278              1.0          4.5  \n",
       "1                 -73.979268         40.782004              1.0         16.9  \n",
       "2                 -73.991242         40.750562              2.0          5.7  \n",
       "3                 -73.991567         40.758092              1.0          7.7  \n",
       "4                 -73.956655         40.783762              1.0          5.3  "
      ]
     },
     "execution_count": 787,
     "metadata": {},
     "output_type": "execute_result"
    }
   ],
   "source": [
    "car_data.head()"
   ]
  },
  {
   "cell_type": "code",
   "execution_count": 788,
   "metadata": {},
   "outputs": [
    {
     "name": "stdout",
     "output_type": "stream",
     "text": [
      "fare_amount: 6.5 -3.75 22.25\n"
     ]
    }
   ],
   "source": [
    "# Count number of outliers in data\n",
    "\n",
    "q75,q25 = np.percentile(car_data.fare_amount,[75,25])\n",
    "    \n",
    "iqr = q75 - q25\n",
    "min = q25 - (iqr*1.5)\n",
    "max = q75 + (iqr*1.5)\n",
    "\n",
    "print(\"fare_amount:\",iqr,min,max)"
   ]
  },
  {
   "cell_type": "markdown",
   "metadata": {},
   "source": [
    "# Fare amount data analysis"
   ]
  },
  {
   "cell_type": "code",
   "execution_count": 789,
   "metadata": {},
   "outputs": [
    {
     "data": {
      "text/plain": [
       "<matplotlib.axes._subplots.AxesSubplot at 0x148176a0>"
      ]
     },
     "execution_count": 789,
     "metadata": {},
     "output_type": "execute_result"
    },
    {
     "data": {
      "image/png": "[encoded data removed]",
      "text/plain": [
       "<matplotlib.figure.Figure at 0x1477eac8>"
      ]
     },
     "metadata": {},
     "output_type": "display_data"
    }
   ],
   "source": [
    "sns.boxplot(car_data.fare_amount)"
   ]
  },
  {
   "cell_type": "code",
   "execution_count": 790,
   "metadata": {},
   "outputs": [
    {
     "data": {
      "text/plain": [
       "1015     54343.00\n",
       "1072      4343.00\n",
       "607        453.00\n",
       "980        434.00\n",
       "1335       180.00\n",
       "1483       165.00\n",
       "6630       128.83\n",
       "14142      108.00\n",
       "12349      104.67\n",
       "12915       96.00\n",
       "7810        95.00\n",
       "9431        88.00\n",
       "10077       87.30\n",
       "12614       87.00\n",
       "4620        85.50\n",
       "14519       82.50\n",
       "12437       80.75\n",
       "2639        79.00\n",
       "4013        77.70\n",
       "13962       77.15\n",
       "2013        77.00\n",
       "6668        76.80\n",
       "8363        76.00\n",
       "10524       75.80\n",
       "11019       75.33\n",
       "13615       75.00\n",
       "15023       73.30\n",
       "1494        70.00\n",
       "4118        69.70\n",
       "649         66.30\n",
       "           ...   \n",
       "7398         2.50\n",
       "6632         2.50\n",
       "8916         2.50\n",
       "1774         2.50\n",
       "3558         2.50\n",
       "958          2.50\n",
       "5449         2.50\n",
       "657          2.50\n",
       "4321         2.50\n",
       "8795         2.50\n",
       "4084         2.50\n",
       "15257        2.50\n",
       "376          2.50\n",
       "8711         2.50\n",
       "2306         2.50\n",
       "11222        2.50\n",
       "1419         2.50\n",
       "3427         2.50\n",
       "10458        2.50\n",
       "13877        2.50\n",
       "922          2.50\n",
       "4367         2.50\n",
       "6703         2.50\n",
       "226          2.50\n",
       "1427         1.14\n",
       "2780         0.01\n",
       "10002        0.00\n",
       "2486        -2.50\n",
       "2039        -2.90\n",
       "13032       -3.00\n",
       "Name: fare_amount, Length: 15987, dtype: float64"
      ]
     },
     "execution_count": 790,
     "metadata": {},
     "output_type": "execute_result"
    }
   ],
   "source": [
    "car_data['fare_amount'].sort_values(ascending = False)"
   ]
  },
  {
   "cell_type": "code",
   "execution_count": 791,
   "metadata": {},
   "outputs": [],
   "source": [
    "car_data = car_data.drop(car_data[car_data.loc[:,'fare_amount']>100].index)\n",
    "car_data = car_data.drop(car_data[car_data.loc[:,'fare_amount']<1].index)"
   ]
  },
  {
   "cell_type": "code",
   "execution_count": 792,
   "metadata": {},
   "outputs": [
    {
     "data": {
      "text/plain": [
       "<matplotlib.axes._subplots.AxesSubplot at 0x148612b0>"
      ]
     },
     "execution_count": 792,
     "metadata": {},
     "output_type": "execute_result"
    },
    {
     "data": {
      "image/png": "[encoded data removed]",
      "text/plain": [
       "<matplotlib.figure.Figure at 0x1475a5f8>"
      ]
     },
     "metadata": {},
     "output_type": "display_data"
    }
   ],
   "source": [
    "sns.boxplot(car_data['fare_amount'])"
   ]
  },
  {
   "cell_type": "code",
   "execution_count": 793,
   "metadata": {},
   "outputs": [
    {
     "data": {
      "text/plain": [
       "12915    96.0\n",
       "7810     95.0\n",
       "9431     88.0\n",
       "10077    87.3\n",
       "12614    87.0\n",
       "Name: fare_amount, dtype: float64"
      ]
     },
     "execution_count": 793,
     "metadata": {},
     "output_type": "execute_result"
    }
   ],
   "source": [
    "car_data['fare_amount'].sort_values(ascending = False).head()"
   ]
  },
  {
   "cell_type": "code",
   "execution_count": 794,
   "metadata": {},
   "outputs": [
    {
     "data": {
      "text/html": [
       "<div>\n",
       "<style scoped>\n",
       "    .dataframe tbody tr th:only-of-type {\n",
       "        vertical-align: middle;\n",
       "    }\n",
       "\n",
       "    .dataframe tbody tr th {\n",
       "        vertical-align: top;\n",
       "    }\n",
       "\n",
       "    .dataframe thead th {\n",
       "        text-align: right;\n",
       "    }\n",
       "</style>\n",
       "<table border=\"1\" class=\"dataframe\">\n",
       "  <thead>\n",
       "    <tr style=\"text-align: right;\">\n",
       "      <th>Variables</th>\n",
       "      <th>pickup_datetime</th>\n",
       "      <th>pickup_longitude</th>\n",
       "      <th>pickup_latitude</th>\n",
       "      <th>dropoff_longitude</th>\n",
       "      <th>dropoff_latitude</th>\n",
       "      <th>passenger_count</th>\n",
       "      <th>fare_amount</th>\n",
       "    </tr>\n",
       "  </thead>\n",
       "  <tbody>\n",
       "    <tr>\n",
       "      <th>0</th>\n",
       "      <td>2009-06-15 17:26:21 UTC</td>\n",
       "      <td>-73.844311</td>\n",
       "      <td>40.721319</td>\n",
       "      <td>-73.841610</td>\n",
       "      <td>40.712278</td>\n",
       "      <td>1.0</td>\n",
       "      <td>4.5</td>\n",
       "    </tr>\n",
       "    <tr>\n",
       "      <th>1</th>\n",
       "      <td>2010-01-05 16:52:16 UTC</td>\n",
       "      <td>-74.016048</td>\n",
       "      <td>40.711303</td>\n",
       "      <td>-73.979268</td>\n",
       "      <td>40.782004</td>\n",
       "      <td>1.0</td>\n",
       "      <td>16.9</td>\n",
       "    </tr>\n",
       "    <tr>\n",
       "      <th>2</th>\n",
       "      <td>2011-08-18 00:35:00 UTC</td>\n",
       "      <td>-73.982738</td>\n",
       "      <td>40.761270</td>\n",
       "      <td>-73.991242</td>\n",
       "      <td>40.750562</td>\n",
       "      <td>2.0</td>\n",
       "      <td>5.7</td>\n",
       "    </tr>\n",
       "    <tr>\n",
       "      <th>3</th>\n",
       "      <td>2012-04-21 04:30:42 UTC</td>\n",
       "      <td>-73.987130</td>\n",
       "      <td>40.733143</td>\n",
       "      <td>-73.991567</td>\n",
       "      <td>40.758092</td>\n",
       "      <td>1.0</td>\n",
       "      <td>7.7</td>\n",
       "    </tr>\n",
       "    <tr>\n",
       "      <th>4</th>\n",
       "      <td>2010-03-09 07:51:00 UTC</td>\n",
       "      <td>-73.968095</td>\n",
       "      <td>40.768008</td>\n",
       "      <td>-73.956655</td>\n",
       "      <td>40.783762</td>\n",
       "      <td>1.0</td>\n",
       "      <td>5.3</td>\n",
       "    </tr>\n",
       "    <tr>\n",
       "      <th>5</th>\n",
       "      <td>2011-01-06 09:50:45 UTC</td>\n",
       "      <td>-74.000964</td>\n",
       "      <td>40.731630</td>\n",
       "      <td>-73.972892</td>\n",
       "      <td>40.758233</td>\n",
       "      <td>1.0</td>\n",
       "      <td>12.1</td>\n",
       "    </tr>\n",
       "    <tr>\n",
       "      <th>6</th>\n",
       "      <td>2012-11-20 20:35:00 UTC</td>\n",
       "      <td>-73.980002</td>\n",
       "      <td>40.751662</td>\n",
       "      <td>-73.973802</td>\n",
       "      <td>40.764842</td>\n",
       "      <td>1.0</td>\n",
       "      <td>7.5</td>\n",
       "    </tr>\n",
       "    <tr>\n",
       "      <th>7</th>\n",
       "      <td>2012-01-04 17:22:00 UTC</td>\n",
       "      <td>-73.951300</td>\n",
       "      <td>40.774138</td>\n",
       "      <td>-73.990095</td>\n",
       "      <td>40.751048</td>\n",
       "      <td>1.0</td>\n",
       "      <td>16.5</td>\n",
       "    </tr>\n",
       "    <tr>\n",
       "      <th>9</th>\n",
       "      <td>2009-09-02 01:11:00 UTC</td>\n",
       "      <td>-73.980658</td>\n",
       "      <td>40.733873</td>\n",
       "      <td>-73.991540</td>\n",
       "      <td>40.758138</td>\n",
       "      <td>2.0</td>\n",
       "      <td>8.9</td>\n",
       "    </tr>\n",
       "    <tr>\n",
       "      <th>10</th>\n",
       "      <td>2012-04-08 07:30:50 UTC</td>\n",
       "      <td>-73.996335</td>\n",
       "      <td>40.737142</td>\n",
       "      <td>-73.980721</td>\n",
       "      <td>40.733559</td>\n",
       "      <td>1.0</td>\n",
       "      <td>5.3</td>\n",
       "    </tr>\n",
       "    <tr>\n",
       "      <th>11</th>\n",
       "      <td>2012-12-24 11:24:00 UTC</td>\n",
       "      <td>0.000000</td>\n",
       "      <td>0.000000</td>\n",
       "      <td>0.000000</td>\n",
       "      <td>0.000000</td>\n",
       "      <td>3.0</td>\n",
       "      <td>5.5</td>\n",
       "    </tr>\n",
       "    <tr>\n",
       "      <th>12</th>\n",
       "      <td>2009-11-06 01:04:03 UTC</td>\n",
       "      <td>-73.991601</td>\n",
       "      <td>40.744712</td>\n",
       "      <td>-73.983081</td>\n",
       "      <td>40.744682</td>\n",
       "      <td>2.0</td>\n",
       "      <td>4.1</td>\n",
       "    </tr>\n",
       "    <tr>\n",
       "      <th>13</th>\n",
       "      <td>2013-07-02 19:54:00 UTC</td>\n",
       "      <td>-74.005360</td>\n",
       "      <td>40.728867</td>\n",
       "      <td>-74.008913</td>\n",
       "      <td>40.710907</td>\n",
       "      <td>1.0</td>\n",
       "      <td>7.0</td>\n",
       "    </tr>\n",
       "    <tr>\n",
       "      <th>14</th>\n",
       "      <td>2011-04-05 17:11:05 UTC</td>\n",
       "      <td>-74.001821</td>\n",
       "      <td>40.737547</td>\n",
       "      <td>-73.998060</td>\n",
       "      <td>40.722788</td>\n",
       "      <td>2.0</td>\n",
       "      <td>7.7</td>\n",
       "    </tr>\n",
       "    <tr>\n",
       "      <th>15</th>\n",
       "      <td>2013-11-23 12:57:00 UTC</td>\n",
       "      <td>0.000000</td>\n",
       "      <td>0.000000</td>\n",
       "      <td>0.000000</td>\n",
       "      <td>0.000000</td>\n",
       "      <td>1.0</td>\n",
       "      <td>5.0</td>\n",
       "    </tr>\n",
       "    <tr>\n",
       "      <th>16</th>\n",
       "      <td>2014-02-19 07:22:00 UTC</td>\n",
       "      <td>-73.986430</td>\n",
       "      <td>40.760465</td>\n",
       "      <td>-73.988990</td>\n",
       "      <td>40.737075</td>\n",
       "      <td>1.0</td>\n",
       "      <td>12.5</td>\n",
       "    </tr>\n",
       "    <tr>\n",
       "      <th>17</th>\n",
       "      <td>2009-07-22 16:08:00 UTC</td>\n",
       "      <td>-73.981060</td>\n",
       "      <td>40.737690</td>\n",
       "      <td>-73.994177</td>\n",
       "      <td>40.728412</td>\n",
       "      <td>1.0</td>\n",
       "      <td>5.3</td>\n",
       "    </tr>\n",
       "    <tr>\n",
       "      <th>18</th>\n",
       "      <td>2010-07-07 14:52:00 UTC</td>\n",
       "      <td>-73.969505</td>\n",
       "      <td>40.784843</td>\n",
       "      <td>-73.958732</td>\n",
       "      <td>40.783357</td>\n",
       "      <td>1.0</td>\n",
       "      <td>5.3</td>\n",
       "    </tr>\n",
       "    <tr>\n",
       "      <th>19</th>\n",
       "      <td>2014-12-06 20:36:22 UTC</td>\n",
       "      <td>-73.979815</td>\n",
       "      <td>40.751902</td>\n",
       "      <td>-73.979446</td>\n",
       "      <td>40.755481</td>\n",
       "      <td>1.0</td>\n",
       "      <td>4.0</td>\n",
       "    </tr>\n",
       "    <tr>\n",
       "      <th>20</th>\n",
       "      <td>2010-09-07 13:18:00 UTC</td>\n",
       "      <td>-73.985382</td>\n",
       "      <td>40.747858</td>\n",
       "      <td>-73.978377</td>\n",
       "      <td>40.762070</td>\n",
       "      <td>1.0</td>\n",
       "      <td>10.5</td>\n",
       "    </tr>\n",
       "    <tr>\n",
       "      <th>21</th>\n",
       "      <td>2013-02-12 12:15:46 UTC</td>\n",
       "      <td>-73.957954</td>\n",
       "      <td>40.779252</td>\n",
       "      <td>-73.961250</td>\n",
       "      <td>40.758787</td>\n",
       "      <td>1.0</td>\n",
       "      <td>11.5</td>\n",
       "    </tr>\n",
       "    <tr>\n",
       "      <th>22</th>\n",
       "      <td>2009-08-06 18:17:23 UTC</td>\n",
       "      <td>-73.991707</td>\n",
       "      <td>40.770505</td>\n",
       "      <td>-73.985459</td>\n",
       "      <td>40.763671</td>\n",
       "      <td>1.0</td>\n",
       "      <td>4.5</td>\n",
       "    </tr>\n",
       "    <tr>\n",
       "      <th>23</th>\n",
       "      <td>2010-12-06 12:29:00 UTC</td>\n",
       "      <td>-74.000632</td>\n",
       "      <td>40.747473</td>\n",
       "      <td>-73.986672</td>\n",
       "      <td>40.740577</td>\n",
       "      <td>1.0</td>\n",
       "      <td>4.9</td>\n",
       "    </tr>\n",
       "    <tr>\n",
       "      <th>24</th>\n",
       "      <td>2009-12-10 15:37:00 UTC</td>\n",
       "      <td>-73.969622</td>\n",
       "      <td>40.756973</td>\n",
       "      <td>-73.981152</td>\n",
       "      <td>40.759712</td>\n",
       "      <td>1.0</td>\n",
       "      <td>6.1</td>\n",
       "    </tr>\n",
       "    <tr>\n",
       "      <th>25</th>\n",
       "      <td>2011-06-21 16:15:00 UTC</td>\n",
       "      <td>-73.991875</td>\n",
       "      <td>40.754437</td>\n",
       "      <td>-73.977230</td>\n",
       "      <td>40.774323</td>\n",
       "      <td>3.0</td>\n",
       "      <td>7.3</td>\n",
       "    </tr>\n",
       "    <tr>\n",
       "      <th>27</th>\n",
       "      <td>2011-06-28 19:47:00 UTC</td>\n",
       "      <td>-73.988893</td>\n",
       "      <td>40.760160</td>\n",
       "      <td>-73.986445</td>\n",
       "      <td>40.757857</td>\n",
       "      <td>3.0</td>\n",
       "      <td>4.5</td>\n",
       "    </tr>\n",
       "    <tr>\n",
       "      <th>28</th>\n",
       "      <td>2012-05-04 06:11:20 UTC</td>\n",
       "      <td>-73.989258</td>\n",
       "      <td>40.690835</td>\n",
       "      <td>-74.004133</td>\n",
       "      <td>40.725690</td>\n",
       "      <td>1.0</td>\n",
       "      <td>9.3</td>\n",
       "    </tr>\n",
       "    <tr>\n",
       "      <th>29</th>\n",
       "      <td>2013-08-11 00:52:00 UTC</td>\n",
       "      <td>-73.981020</td>\n",
       "      <td>40.737760</td>\n",
       "      <td>-73.980668</td>\n",
       "      <td>40.730497</td>\n",
       "      <td>2.0</td>\n",
       "      <td>4.5</td>\n",
       "    </tr>\n",
       "    <tr>\n",
       "      <th>30</th>\n",
       "      <td>2014-02-19 16:03:00 UTC</td>\n",
       "      <td>-73.976075</td>\n",
       "      <td>40.752422</td>\n",
       "      <td>-73.981082</td>\n",
       "      <td>40.759285</td>\n",
       "      <td>1.0</td>\n",
       "      <td>5.5</td>\n",
       "    </tr>\n",
       "    <tr>\n",
       "      <th>32</th>\n",
       "      <td>2009-01-09 16:10:00 UTC</td>\n",
       "      <td>-73.873027</td>\n",
       "      <td>40.773883</td>\n",
       "      <td>-73.984545</td>\n",
       "      <td>40.769545</td>\n",
       "      <td>3.0</td>\n",
       "      <td>31.9</td>\n",
       "    </tr>\n",
       "    <tr>\n",
       "      <th>...</th>\n",
       "      <td>...</td>\n",
       "      <td>...</td>\n",
       "      <td>...</td>\n",
       "      <td>...</td>\n",
       "      <td>...</td>\n",
       "      <td>...</td>\n",
       "      <td>...</td>\n",
       "    </tr>\n",
       "    <tr>\n",
       "      <th>16036</th>\n",
       "      <td>2010-08-17 11:34:00 UTC</td>\n",
       "      <td>-73.990103</td>\n",
       "      <td>40.729750</td>\n",
       "      <td>-73.978462</td>\n",
       "      <td>40.762383</td>\n",
       "      <td>1.0</td>\n",
       "      <td>10.5</td>\n",
       "    </tr>\n",
       "    <tr>\n",
       "      <th>16037</th>\n",
       "      <td>2012-02-27 21:40:50 UTC</td>\n",
       "      <td>-73.992618</td>\n",
       "      <td>40.723878</td>\n",
       "      <td>-73.977073</td>\n",
       "      <td>40.733778</td>\n",
       "      <td>1.0</td>\n",
       "      <td>6.5</td>\n",
       "    </tr>\n",
       "    <tr>\n",
       "      <th>16038</th>\n",
       "      <td>2010-08-31 10:43:42 UTC</td>\n",
       "      <td>-73.990336</td>\n",
       "      <td>40.718973</td>\n",
       "      <td>-73.956060</td>\n",
       "      <td>40.713974</td>\n",
       "      <td>1.0</td>\n",
       "      <td>5.7</td>\n",
       "    </tr>\n",
       "    <tr>\n",
       "      <th>16039</th>\n",
       "      <td>2010-12-11 16:25:00 UTC</td>\n",
       "      <td>-73.936462</td>\n",
       "      <td>40.794292</td>\n",
       "      <td>-73.948747</td>\n",
       "      <td>40.779097</td>\n",
       "      <td>5.0</td>\n",
       "      <td>12.9</td>\n",
       "    </tr>\n",
       "    <tr>\n",
       "      <th>16040</th>\n",
       "      <td>2014-06-16 00:05:19 UTC</td>\n",
       "      <td>-73.980597</td>\n",
       "      <td>40.744267</td>\n",
       "      <td>-73.979330</td>\n",
       "      <td>40.731205</td>\n",
       "      <td>1.0</td>\n",
       "      <td>6.5</td>\n",
       "    </tr>\n",
       "    <tr>\n",
       "      <th>16041</th>\n",
       "      <td>2014-11-17 21:53:00 UTC</td>\n",
       "      <td>-73.983610</td>\n",
       "      <td>40.747090</td>\n",
       "      <td>-73.961310</td>\n",
       "      <td>40.770980</td>\n",
       "      <td>1.0</td>\n",
       "      <td>11.0</td>\n",
       "    </tr>\n",
       "    <tr>\n",
       "      <th>16042</th>\n",
       "      <td>2015-04-06 21:53:06 UTC</td>\n",
       "      <td>-73.991425</td>\n",
       "      <td>40.749832</td>\n",
       "      <td>-74.000107</td>\n",
       "      <td>40.727898</td>\n",
       "      <td>2.0</td>\n",
       "      <td>8.5</td>\n",
       "    </tr>\n",
       "    <tr>\n",
       "      <th>16043</th>\n",
       "      <td>2011-11-17 10:58:05 UTC</td>\n",
       "      <td>-73.973961</td>\n",
       "      <td>40.764055</td>\n",
       "      <td>-73.986807</td>\n",
       "      <td>40.751617</td>\n",
       "      <td>2.0</td>\n",
       "      <td>8.5</td>\n",
       "    </tr>\n",
       "    <tr>\n",
       "      <th>16044</th>\n",
       "      <td>2013-04-29 03:05:45 UTC</td>\n",
       "      <td>-73.982785</td>\n",
       "      <td>40.731421</td>\n",
       "      <td>-74.011358</td>\n",
       "      <td>40.713788</td>\n",
       "      <td>1.0</td>\n",
       "      <td>16.5</td>\n",
       "    </tr>\n",
       "    <tr>\n",
       "      <th>16045</th>\n",
       "      <td>2013-09-19 23:56:00 UTC</td>\n",
       "      <td>-73.995227</td>\n",
       "      <td>40.733475</td>\n",
       "      <td>-73.984030</td>\n",
       "      <td>40.743287</td>\n",
       "      <td>2.0</td>\n",
       "      <td>6.5</td>\n",
       "    </tr>\n",
       "    <tr>\n",
       "      <th>16046</th>\n",
       "      <td>2014-04-24 01:48:40 UTC</td>\n",
       "      <td>-73.976298</td>\n",
       "      <td>40.753948</td>\n",
       "      <td>-73.993062</td>\n",
       "      <td>40.744550</td>\n",
       "      <td>1.0</td>\n",
       "      <td>6.0</td>\n",
       "    </tr>\n",
       "    <tr>\n",
       "      <th>16047</th>\n",
       "      <td>2010-03-18 11:09:00 UTC</td>\n",
       "      <td>-73.970733</td>\n",
       "      <td>40.758193</td>\n",
       "      <td>-73.979457</td>\n",
       "      <td>40.755830</td>\n",
       "      <td>1.0</td>\n",
       "      <td>6.1</td>\n",
       "    </tr>\n",
       "    <tr>\n",
       "      <th>16048</th>\n",
       "      <td>2012-07-10 17:32:00 UTC</td>\n",
       "      <td>-73.988040</td>\n",
       "      <td>40.774902</td>\n",
       "      <td>-74.005265</td>\n",
       "      <td>40.744157</td>\n",
       "      <td>1.0</td>\n",
       "      <td>9.7</td>\n",
       "    </tr>\n",
       "    <tr>\n",
       "      <th>16049</th>\n",
       "      <td>2012-07-31 12:27:00 UTC</td>\n",
       "      <td>-74.008657</td>\n",
       "      <td>40.715975</td>\n",
       "      <td>-73.975653</td>\n",
       "      <td>40.751233</td>\n",
       "      <td>4.0</td>\n",
       "      <td>15.7</td>\n",
       "    </tr>\n",
       "    <tr>\n",
       "      <th>16050</th>\n",
       "      <td>2013-01-23 07:36:49 UTC</td>\n",
       "      <td>-73.996715</td>\n",
       "      <td>40.742504</td>\n",
       "      <td>-73.977987</td>\n",
       "      <td>40.751805</td>\n",
       "      <td>1.0</td>\n",
       "      <td>8.5</td>\n",
       "    </tr>\n",
       "    <tr>\n",
       "      <th>16051</th>\n",
       "      <td>2014-10-01 20:05:00 UTC</td>\n",
       "      <td>-73.975540</td>\n",
       "      <td>40.755590</td>\n",
       "      <td>-73.944780</td>\n",
       "      <td>40.780050</td>\n",
       "      <td>2.0</td>\n",
       "      <td>11.5</td>\n",
       "    </tr>\n",
       "    <tr>\n",
       "      <th>16052</th>\n",
       "      <td>2014-10-03 22:24:00 UTC</td>\n",
       "      <td>-73.987298</td>\n",
       "      <td>40.722007</td>\n",
       "      <td>-74.000267</td>\n",
       "      <td>40.730342</td>\n",
       "      <td>5.0</td>\n",
       "      <td>10.0</td>\n",
       "    </tr>\n",
       "    <tr>\n",
       "      <th>16053</th>\n",
       "      <td>2014-09-23 09:49:00 UTC</td>\n",
       "      <td>-73.954977</td>\n",
       "      <td>40.788582</td>\n",
       "      <td>-73.964227</td>\n",
       "      <td>40.792305</td>\n",
       "      <td>1.0</td>\n",
       "      <td>4.0</td>\n",
       "    </tr>\n",
       "    <tr>\n",
       "      <th>16054</th>\n",
       "      <td>2009-11-28 15:58:02 UTC</td>\n",
       "      <td>-73.993929</td>\n",
       "      <td>40.756944</td>\n",
       "      <td>-73.993044</td>\n",
       "      <td>40.744088</td>\n",
       "      <td>1.0</td>\n",
       "      <td>5.3</td>\n",
       "    </tr>\n",
       "    <tr>\n",
       "      <th>16055</th>\n",
       "      <td>2012-09-05 17:34:00 UTC</td>\n",
       "      <td>-73.994077</td>\n",
       "      <td>40.741242</td>\n",
       "      <td>-73.830257</td>\n",
       "      <td>40.763645</td>\n",
       "      <td>1.0</td>\n",
       "      <td>48.3</td>\n",
       "    </tr>\n",
       "    <tr>\n",
       "      <th>16056</th>\n",
       "      <td>2012-12-17 14:59:16 UTC</td>\n",
       "      <td>0.000000</td>\n",
       "      <td>0.000000</td>\n",
       "      <td>0.000000</td>\n",
       "      <td>0.000000</td>\n",
       "      <td>1.0</td>\n",
       "      <td>38.3</td>\n",
       "    </tr>\n",
       "    <tr>\n",
       "      <th>16057</th>\n",
       "      <td>2013-01-31 15:46:00 UTC</td>\n",
       "      <td>-73.963582</td>\n",
       "      <td>40.774242</td>\n",
       "      <td>-73.956525</td>\n",
       "      <td>40.783952</td>\n",
       "      <td>6.0</td>\n",
       "      <td>5.0</td>\n",
       "    </tr>\n",
       "    <tr>\n",
       "      <th>16058</th>\n",
       "      <td>2014-04-19 14:58:57 UTC</td>\n",
       "      <td>-73.974265</td>\n",
       "      <td>40.756048</td>\n",
       "      <td>-73.980885</td>\n",
       "      <td>40.746838</td>\n",
       "      <td>2.0</td>\n",
       "      <td>5.5</td>\n",
       "    </tr>\n",
       "    <tr>\n",
       "      <th>16059</th>\n",
       "      <td>2010-01-03 18:26:00 UTC</td>\n",
       "      <td>-73.973297</td>\n",
       "      <td>40.743768</td>\n",
       "      <td>-73.986060</td>\n",
       "      <td>40.730768</td>\n",
       "      <td>3.0</td>\n",
       "      <td>5.3</td>\n",
       "    </tr>\n",
       "    <tr>\n",
       "      <th>16060</th>\n",
       "      <td>2014-10-01 09:15:00 UTC</td>\n",
       "      <td>-73.954582</td>\n",
       "      <td>40.778047</td>\n",
       "      <td>-74.005982</td>\n",
       "      <td>40.742117</td>\n",
       "      <td>1.0</td>\n",
       "      <td>22.0</td>\n",
       "    </tr>\n",
       "    <tr>\n",
       "      <th>16061</th>\n",
       "      <td>2009-05-20 18:56:42 UTC</td>\n",
       "      <td>-73.994191</td>\n",
       "      <td>40.751138</td>\n",
       "      <td>-73.962769</td>\n",
       "      <td>40.769719</td>\n",
       "      <td>1.0</td>\n",
       "      <td>10.9</td>\n",
       "    </tr>\n",
       "    <tr>\n",
       "      <th>16062</th>\n",
       "      <td>2014-12-12 07:41:00 UTC</td>\n",
       "      <td>-74.008820</td>\n",
       "      <td>40.718757</td>\n",
       "      <td>-73.998865</td>\n",
       "      <td>40.719987</td>\n",
       "      <td>1.0</td>\n",
       "      <td>6.5</td>\n",
       "    </tr>\n",
       "    <tr>\n",
       "      <th>16063</th>\n",
       "      <td>2009-07-13 07:58:00 UTC</td>\n",
       "      <td>-73.981310</td>\n",
       "      <td>40.781695</td>\n",
       "      <td>-74.014392</td>\n",
       "      <td>40.715527</td>\n",
       "      <td>2.0</td>\n",
       "      <td>16.1</td>\n",
       "    </tr>\n",
       "    <tr>\n",
       "      <th>16064</th>\n",
       "      <td>2009-11-11 11:19:07 UTC</td>\n",
       "      <td>-73.972507</td>\n",
       "      <td>40.753417</td>\n",
       "      <td>-73.979577</td>\n",
       "      <td>40.765495</td>\n",
       "      <td>1.0</td>\n",
       "      <td>8.5</td>\n",
       "    </tr>\n",
       "    <tr>\n",
       "      <th>16065</th>\n",
       "      <td>2010-05-11 23:53:00 UTC</td>\n",
       "      <td>-73.957027</td>\n",
       "      <td>40.765945</td>\n",
       "      <td>-73.981983</td>\n",
       "      <td>40.779560</td>\n",
       "      <td>1.0</td>\n",
       "      <td>8.1</td>\n",
       "    </tr>\n",
       "  </tbody>\n",
       "</table>\n",
       "<p>15973 rows × 7 columns</p>\n",
       "</div>"
      ],
      "text/plain": [
       "Variables          pickup_datetime  pickup_longitude  pickup_latitude  \\\n",
       "0          2009-06-15 17:26:21 UTC        -73.844311        40.721319   \n",
       "1          2010-01-05 16:52:16 UTC        -74.016048        40.711303   \n",
       "2          2011-08-18 00:35:00 UTC        -73.982738        40.761270   \n",
       "3          2012-04-21 04:30:42 UTC        -73.987130        40.733143   \n",
       "4          2010-03-09 07:51:00 UTC        -73.968095        40.768008   \n",
       "5          2011-01-06 09:50:45 UTC        -74.000964        40.731630   \n",
       "6          2012-11-20 20:35:00 UTC        -73.980002        40.751662   \n",
       "7          2012-01-04 17:22:00 UTC        -73.951300        40.774138   \n",
       "9          2009-09-02 01:11:00 UTC        -73.980658        40.733873   \n",
       "10         2012-04-08 07:30:50 UTC        -73.996335        40.737142   \n",
       "11         2012-12-24 11:24:00 UTC          0.000000         0.000000   \n",
       "12         2009-11-06 01:04:03 UTC        -73.991601        40.744712   \n",
       "13         2013-07-02 19:54:00 UTC        -74.005360        40.728867   \n",
       "14         2011-04-05 17:11:05 UTC        -74.001821        40.737547   \n",
       "15         2013-11-23 12:57:00 UTC          0.000000         0.000000   \n",
       "16         2014-02-19 07:22:00 UTC        -73.986430        40.760465   \n",
       "17         2009-07-22 16:08:00 UTC        -73.981060        40.737690   \n",
       "18         2010-07-07 14:52:00 UTC        -73.969505        40.784843   \n",
       "19         2014-12-06 20:36:22 UTC        -73.979815        40.751902   \n",
       "20         2010-09-07 13:18:00 UTC        -73.985382        40.747858   \n",
       "21         2013-02-12 12:15:46 UTC        -73.957954        40.779252   \n",
       "22         2009-08-06 18:17:23 UTC        -73.991707        40.770505   \n",
       "23         2010-12-06 12:29:00 UTC        -74.000632        40.747473   \n",
       "24         2009-12-10 15:37:00 UTC        -73.969622        40.756973   \n",
       "25         2011-06-21 16:15:00 UTC        -73.991875        40.754437   \n",
       "27         2011-06-28 19:47:00 UTC        -73.988893        40.760160   \n",
       "28         2012-05-04 06:11:20 UTC        -73.989258        40.690835   \n",
       "29         2013-08-11 00:52:00 UTC        -73.981020        40.737760   \n",
       "30         2014-02-19 16:03:00 UTC        -73.976075        40.752422   \n",
       "32         2009-01-09 16:10:00 UTC        -73.873027        40.773883   \n",
       "...                            ...               ...              ...   \n",
       "16036      2010-08-17 11:34:00 UTC        -73.990103        40.729750   \n",
       "16037      2012-02-27 21:40:50 UTC        -73.992618        40.723878   \n",
       "16038      2010-08-31 10:43:42 UTC        -73.990336        40.718973   \n",
       "16039      2010-12-11 16:25:00 UTC        -73.936462        40.794292   \n",
       "16040      2014-06-16 00:05:19 UTC        -73.980597        40.744267   \n",
       "16041      2014-11-17 21:53:00 UTC        -73.983610        40.747090   \n",
       "16042      2015-04-06 21:53:06 UTC        -73.991425        40.749832   \n",
       "16043      2011-11-17 10:58:05 UTC        -73.973961        40.764055   \n",
       "16044      2013-04-29 03:05:45 UTC        -73.982785        40.731421   \n",
       "16045      2013-09-19 23:56:00 UTC        -73.995227        40.733475   \n",
       "16046      2014-04-24 01:48:40 UTC        -73.976298        40.753948   \n",
       "16047      2010-03-18 11:09:00 UTC        -73.970733        40.758193   \n",
       "16048      2012-07-10 17:32:00 UTC        -73.988040        40.774902   \n",
       "16049      2012-07-31 12:27:00 UTC        -74.008657        40.715975   \n",
       "16050      2013-01-23 07:36:49 UTC        -73.996715        40.742504   \n",
       "16051      2014-10-01 20:05:00 UTC        -73.975540        40.755590   \n",
       "16052      2014-10-03 22:24:00 UTC        -73.987298        40.722007   \n",
       "16053      2014-09-23 09:49:00 UTC        -73.954977        40.788582   \n",
       "16054      2009-11-28 15:58:02 UTC        -73.993929        40.756944   \n",
       "16055      2012-09-05 17:34:00 UTC        -73.994077        40.741242   \n",
       "16056      2012-12-17 14:59:16 UTC          0.000000         0.000000   \n",
       "16057      2013-01-31 15:46:00 UTC        -73.963582        40.774242   \n",
       "16058      2014-04-19 14:58:57 UTC        -73.974265        40.756048   \n",
       "16059      2010-01-03 18:26:00 UTC        -73.973297        40.743768   \n",
       "16060      2014-10-01 09:15:00 UTC        -73.954582        40.778047   \n",
       "16061      2009-05-20 18:56:42 UTC        -73.994191        40.751138   \n",
       "16062      2014-12-12 07:41:00 UTC        -74.008820        40.718757   \n",
       "16063      2009-07-13 07:58:00 UTC        -73.981310        40.781695   \n",
       "16064      2009-11-11 11:19:07 UTC        -73.972507        40.753417   \n",
       "16065      2010-05-11 23:53:00 UTC        -73.957027        40.765945   \n",
       "\n",
       "Variables  dropoff_longitude  dropoff_latitude  passenger_count  fare_amount  \n",
       "0                 -73.841610         40.712278              1.0          4.5  \n",
       "1                 -73.979268         40.782004              1.0         16.9  \n",
       "2                 -73.991242         40.750562              2.0          5.7  \n",
       "3                 -73.991567         40.758092              1.0          7.7  \n",
       "4                 -73.956655         40.783762              1.0          5.3  \n",
       "5                 -73.972892         40.758233              1.0         12.1  \n",
       "6                 -73.973802         40.764842              1.0          7.5  \n",
       "7                 -73.990095         40.751048              1.0         16.5  \n",
       "9                 -73.991540         40.758138              2.0          8.9  \n",
       "10                -73.980721         40.733559              1.0          5.3  \n",
       "11                  0.000000          0.000000              3.0          5.5  \n",
       "12                -73.983081         40.744682              2.0          4.1  \n",
       "13                -74.008913         40.710907              1.0          7.0  \n",
       "14                -73.998060         40.722788              2.0          7.7  \n",
       "15                  0.000000          0.000000              1.0          5.0  \n",
       "16                -73.988990         40.737075              1.0         12.5  \n",
       "17                -73.994177         40.728412              1.0          5.3  \n",
       "18                -73.958732         40.783357              1.0          5.3  \n",
       "19                -73.979446         40.755481              1.0          4.0  \n",
       "20                -73.978377         40.762070              1.0         10.5  \n",
       "21                -73.961250         40.758787              1.0         11.5  \n",
       "22                -73.985459         40.763671              1.0          4.5  \n",
       "23                -73.986672         40.740577              1.0          4.9  \n",
       "24                -73.981152         40.759712              1.0          6.1  \n",
       "25                -73.977230         40.774323              3.0          7.3  \n",
       "27                -73.986445         40.757857              3.0          4.5  \n",
       "28                -74.004133         40.725690              1.0          9.3  \n",
       "29                -73.980668         40.730497              2.0          4.5  \n",
       "30                -73.981082         40.759285              1.0          5.5  \n",
       "32                -73.984545         40.769545              3.0         31.9  \n",
       "...                      ...               ...              ...          ...  \n",
       "16036             -73.978462         40.762383              1.0         10.5  \n",
       "16037             -73.977073         40.733778              1.0          6.5  \n",
       "16038             -73.956060         40.713974              1.0          5.7  \n",
       "16039             -73.948747         40.779097              5.0         12.9  \n",
       "16040             -73.979330         40.731205              1.0          6.5  \n",
       "16041             -73.961310         40.770980              1.0         11.0  \n",
       "16042             -74.000107         40.727898              2.0          8.5  \n",
       "16043             -73.986807         40.751617              2.0          8.5  \n",
       "16044             -74.011358         40.713788              1.0         16.5  \n",
       "16045             -73.984030         40.743287              2.0          6.5  \n",
       "16046             -73.993062         40.744550              1.0          6.0  \n",
       "16047             -73.979457         40.755830              1.0          6.1  \n",
       "16048             -74.005265         40.744157              1.0          9.7  \n",
       "16049             -73.975653         40.751233              4.0         15.7  \n",
       "16050             -73.977987         40.751805              1.0          8.5  \n",
       "16051             -73.944780         40.780050              2.0         11.5  \n",
       "16052             -74.000267         40.730342              5.0         10.0  \n",
       "16053             -73.964227         40.792305              1.0          4.0  \n",
       "16054             -73.993044         40.744088              1.0          5.3  \n",
       "16055             -73.830257         40.763645              1.0         48.3  \n",
       "16056               0.000000          0.000000              1.0         38.3  \n",
       "16057             -73.956525         40.783952              6.0          5.0  \n",
       "16058             -73.980885         40.746838              2.0          5.5  \n",
       "16059             -73.986060         40.730768              3.0          5.3  \n",
       "16060             -74.005982         40.742117              1.0         22.0  \n",
       "16061             -73.962769         40.769719              1.0         10.9  \n",
       "16062             -73.998865         40.719987              1.0          6.5  \n",
       "16063             -74.014392         40.715527              2.0         16.1  \n",
       "16064             -73.979577         40.765495              1.0          8.5  \n",
       "16065             -73.981983         40.779560              1.0          8.1  \n",
       "\n",
       "[15973 rows x 7 columns]"
      ]
     },
     "execution_count": 794,
     "metadata": {},
     "output_type": "execute_result"
    }
   ],
   "source": [
    "car_data"
   ]
  },
  {
   "cell_type": "markdown",
   "metadata": {},
   "source": [
    "# Passenger Count Data analysis"
   ]
  },
  {
   "cell_type": "code",
   "execution_count": 795,
   "metadata": {},
   "outputs": [
    {
     "data": {
      "text/plain": [
       "<matplotlib.axes._subplots.AxesSubplot at 0x148808d0>"
      ]
     },
     "execution_count": 795,
     "metadata": {},
     "output_type": "execute_result"
    },
    {
     "data": {
      "image/png": "[encoded data removed]",
      "text/plain": [
       "<matplotlib.figure.Figure at 0x148cceb8>"
      ]
     },
     "metadata": {},
     "output_type": "display_data"
    }
   ],
   "source": [
    "sns.boxplot(car_data['passenger_count'])"
   ]
  },
  {
   "cell_type": "code",
   "execution_count": 796,
   "metadata": {},
   "outputs": [
    {
     "data": {
      "text/html": [
       "<div>\n",
       "<style scoped>\n",
       "    .dataframe tbody tr th:only-of-type {\n",
       "        vertical-align: middle;\n",
       "    }\n",
       "\n",
       "    .dataframe tbody tr th {\n",
       "        vertical-align: top;\n",
       "    }\n",
       "\n",
       "    .dataframe thead th {\n",
       "        text-align: right;\n",
       "    }\n",
       "</style>\n",
       "<table border=\"1\" class=\"dataframe\">\n",
       "  <thead>\n",
       "    <tr style=\"text-align: right;\">\n",
       "      <th>Variables</th>\n",
       "      <th>pickup_longitude</th>\n",
       "      <th>pickup_latitude</th>\n",
       "      <th>dropoff_longitude</th>\n",
       "      <th>dropoff_latitude</th>\n",
       "      <th>passenger_count</th>\n",
       "      <th>fare_amount</th>\n",
       "    </tr>\n",
       "  </thead>\n",
       "  <tbody>\n",
       "    <tr>\n",
       "      <th>count</th>\n",
       "      <td>15973.000000</td>\n",
       "      <td>15973.000000</td>\n",
       "      <td>15973.000000</td>\n",
       "      <td>15973.000000</td>\n",
       "      <td>15973.000000</td>\n",
       "      <td>15973.000000</td>\n",
       "    </tr>\n",
       "    <tr>\n",
       "      <th>mean</th>\n",
       "      <td>-72.467761</td>\n",
       "      <td>39.917469</td>\n",
       "      <td>-72.467319</td>\n",
       "      <td>39.900525</td>\n",
       "      <td>2.624342</td>\n",
       "      <td>11.271346</td>\n",
       "    </tr>\n",
       "    <tr>\n",
       "      <th>std</th>\n",
       "      <td>10.562262</td>\n",
       "      <td>6.824466</td>\n",
       "      <td>10.558918</td>\n",
       "      <td>6.180788</td>\n",
       "      <td>60.916900</td>\n",
       "      <td>9.378648</td>\n",
       "    </tr>\n",
       "    <tr>\n",
       "      <th>min</th>\n",
       "      <td>-74.438233</td>\n",
       "      <td>-74.006893</td>\n",
       "      <td>-74.227047</td>\n",
       "      <td>-74.006377</td>\n",
       "      <td>0.000000</td>\n",
       "      <td>1.140000</td>\n",
       "    </tr>\n",
       "    <tr>\n",
       "      <th>25%</th>\n",
       "      <td>-73.992133</td>\n",
       "      <td>40.734948</td>\n",
       "      <td>-73.991182</td>\n",
       "      <td>40.734700</td>\n",
       "      <td>1.000000</td>\n",
       "      <td>6.000000</td>\n",
       "    </tr>\n",
       "    <tr>\n",
       "      <th>50%</th>\n",
       "      <td>-73.981689</td>\n",
       "      <td>40.752632</td>\n",
       "      <td>-73.980168</td>\n",
       "      <td>40.753564</td>\n",
       "      <td>1.000000</td>\n",
       "      <td>8.500000</td>\n",
       "    </tr>\n",
       "    <tr>\n",
       "      <th>75%</th>\n",
       "      <td>-73.966832</td>\n",
       "      <td>40.767368</td>\n",
       "      <td>-73.963646</td>\n",
       "      <td>40.768005</td>\n",
       "      <td>2.000000</td>\n",
       "      <td>12.500000</td>\n",
       "    </tr>\n",
       "    <tr>\n",
       "      <th>max</th>\n",
       "      <td>40.766125</td>\n",
       "      <td>401.083332</td>\n",
       "      <td>40.802437</td>\n",
       "      <td>41.366138</td>\n",
       "      <td>5345.000000</td>\n",
       "      <td>96.000000</td>\n",
       "    </tr>\n",
       "  </tbody>\n",
       "</table>\n",
       "</div>"
      ],
      "text/plain": [
       "Variables  pickup_longitude  pickup_latitude  dropoff_longitude  \\\n",
       "count          15973.000000     15973.000000       15973.000000   \n",
       "mean             -72.467761        39.917469         -72.467319   \n",
       "std               10.562262         6.824466          10.558918   \n",
       "min              -74.438233       -74.006893         -74.227047   \n",
       "25%              -73.992133        40.734948         -73.991182   \n",
       "50%              -73.981689        40.752632         -73.980168   \n",
       "75%              -73.966832        40.767368         -73.963646   \n",
       "max               40.766125       401.083332          40.802437   \n",
       "\n",
       "Variables  dropoff_latitude  passenger_count   fare_amount  \n",
       "count          15973.000000     15973.000000  15973.000000  \n",
       "mean              39.900525         2.624342     11.271346  \n",
       "std                6.180788        60.916900      9.378648  \n",
       "min              -74.006377         0.000000      1.140000  \n",
       "25%               40.734700         1.000000      6.000000  \n",
       "50%               40.753564         1.000000      8.500000  \n",
       "75%               40.768005         2.000000     12.500000  \n",
       "max               41.366138      5345.000000     96.000000  "
      ]
     },
     "execution_count": 796,
     "metadata": {},
     "output_type": "execute_result"
    }
   ],
   "source": [
    "car_data.describe()"
   ]
  },
  {
   "cell_type": "code",
   "execution_count": 797,
   "metadata": {},
   "outputs": [
    {
     "data": {
      "text/plain": [
       "10711       0.0\n",
       "6575        0.0\n",
       "5150        0.0\n",
       "566         0.0\n",
       "15286       0.0\n",
       "15554       0.0\n",
       "11462       0.0\n",
       "3489        0.0\n",
       "8971        0.0\n",
       "4344        0.0\n",
       "15919       0.0\n",
       "3481        0.0\n",
       "12611       0.0\n",
       "5517        0.0\n",
       "15514       0.0\n",
       "5914        0.0\n",
       "14196       0.0\n",
       "13742       0.0\n",
       "10642       0.0\n",
       "3034        0.0\n",
       "5557        0.0\n",
       "8916        0.0\n",
       "6881        0.0\n",
       "678         0.0\n",
       "5277        0.0\n",
       "7640        0.0\n",
       "13379       0.0\n",
       "1935        0.0\n",
       "3599        0.0\n",
       "6036        0.0\n",
       "          ...  \n",
       "2078        6.0\n",
       "7896        6.0\n",
       "2060        6.0\n",
       "1217        6.0\n",
       "11146       6.0\n",
       "14282       6.0\n",
       "15291       6.0\n",
       "7209        6.0\n",
       "3549        6.0\n",
       "6335        6.0\n",
       "4867        6.0\n",
       "1043       35.0\n",
       "1242       43.0\n",
       "8631       43.0\n",
       "8406       53.0\n",
       "1007       53.0\n",
       "8445       58.0\n",
       "8571       87.0\n",
       "233       236.0\n",
       "1107      345.0\n",
       "386       354.0\n",
       "263       456.0\n",
       "8715      531.2\n",
       "356       535.0\n",
       "1200      536.0\n",
       "8506      537.0\n",
       "971       554.0\n",
       "8985      557.0\n",
       "293      5334.0\n",
       "1146     5345.0\n",
       "Name: passenger_count, Length: 15973, dtype: float64"
      ]
     },
     "execution_count": 797,
     "metadata": {},
     "output_type": "execute_result"
    }
   ],
   "source": [
    "car_data['passenger_count'].sort_values(ascending=True)"
   ]
  },
  {
   "cell_type": "code",
   "execution_count": 798,
   "metadata": {},
   "outputs": [
    {
     "data": {
      "text/html": [
       "<div>\n",
       "<style scoped>\n",
       "    .dataframe tbody tr th:only-of-type {\n",
       "        vertical-align: middle;\n",
       "    }\n",
       "\n",
       "    .dataframe tbody tr th {\n",
       "        vertical-align: top;\n",
       "    }\n",
       "\n",
       "    .dataframe thead th {\n",
       "        text-align: right;\n",
       "    }\n",
       "</style>\n",
       "<table border=\"1\" class=\"dataframe\">\n",
       "  <thead>\n",
       "    <tr style=\"text-align: right;\">\n",
       "      <th>Variables</th>\n",
       "      <th>pickup_datetime</th>\n",
       "      <th>pickup_longitude</th>\n",
       "      <th>pickup_latitude</th>\n",
       "      <th>dropoff_longitude</th>\n",
       "      <th>dropoff_latitude</th>\n",
       "      <th>passenger_count</th>\n",
       "      <th>fare_amount</th>\n",
       "    </tr>\n",
       "  </thead>\n",
       "  <tbody>\n",
       "    <tr>\n",
       "      <th>0</th>\n",
       "      <td>2009-06-15 17:26:21 UTC</td>\n",
       "      <td>-73.844311</td>\n",
       "      <td>40.721319</td>\n",
       "      <td>-73.841610</td>\n",
       "      <td>40.712278</td>\n",
       "      <td>1.0</td>\n",
       "      <td>4.5</td>\n",
       "    </tr>\n",
       "    <tr>\n",
       "      <th>1</th>\n",
       "      <td>2010-01-05 16:52:16 UTC</td>\n",
       "      <td>-74.016048</td>\n",
       "      <td>40.711303</td>\n",
       "      <td>-73.979268</td>\n",
       "      <td>40.782004</td>\n",
       "      <td>1.0</td>\n",
       "      <td>16.9</td>\n",
       "    </tr>\n",
       "    <tr>\n",
       "      <th>2</th>\n",
       "      <td>2011-08-18 00:35:00 UTC</td>\n",
       "      <td>-73.982738</td>\n",
       "      <td>40.761270</td>\n",
       "      <td>-73.991242</td>\n",
       "      <td>40.750562</td>\n",
       "      <td>2.0</td>\n",
       "      <td>5.7</td>\n",
       "    </tr>\n",
       "    <tr>\n",
       "      <th>3</th>\n",
       "      <td>2012-04-21 04:30:42 UTC</td>\n",
       "      <td>-73.987130</td>\n",
       "      <td>40.733143</td>\n",
       "      <td>-73.991567</td>\n",
       "      <td>40.758092</td>\n",
       "      <td>1.0</td>\n",
       "      <td>7.7</td>\n",
       "    </tr>\n",
       "    <tr>\n",
       "      <th>4</th>\n",
       "      <td>2010-03-09 07:51:00 UTC</td>\n",
       "      <td>-73.968095</td>\n",
       "      <td>40.768008</td>\n",
       "      <td>-73.956655</td>\n",
       "      <td>40.783762</td>\n",
       "      <td>1.0</td>\n",
       "      <td>5.3</td>\n",
       "    </tr>\n",
       "    <tr>\n",
       "      <th>5</th>\n",
       "      <td>2011-01-06 09:50:45 UTC</td>\n",
       "      <td>-74.000964</td>\n",
       "      <td>40.731630</td>\n",
       "      <td>-73.972892</td>\n",
       "      <td>40.758233</td>\n",
       "      <td>1.0</td>\n",
       "      <td>12.1</td>\n",
       "    </tr>\n",
       "    <tr>\n",
       "      <th>6</th>\n",
       "      <td>2012-11-20 20:35:00 UTC</td>\n",
       "      <td>-73.980002</td>\n",
       "      <td>40.751662</td>\n",
       "      <td>-73.973802</td>\n",
       "      <td>40.764842</td>\n",
       "      <td>1.0</td>\n",
       "      <td>7.5</td>\n",
       "    </tr>\n",
       "    <tr>\n",
       "      <th>7</th>\n",
       "      <td>2012-01-04 17:22:00 UTC</td>\n",
       "      <td>-73.951300</td>\n",
       "      <td>40.774138</td>\n",
       "      <td>-73.990095</td>\n",
       "      <td>40.751048</td>\n",
       "      <td>1.0</td>\n",
       "      <td>16.5</td>\n",
       "    </tr>\n",
       "    <tr>\n",
       "      <th>9</th>\n",
       "      <td>2009-09-02 01:11:00 UTC</td>\n",
       "      <td>-73.980658</td>\n",
       "      <td>40.733873</td>\n",
       "      <td>-73.991540</td>\n",
       "      <td>40.758138</td>\n",
       "      <td>2.0</td>\n",
       "      <td>8.9</td>\n",
       "    </tr>\n",
       "    <tr>\n",
       "      <th>10</th>\n",
       "      <td>2012-04-08 07:30:50 UTC</td>\n",
       "      <td>-73.996335</td>\n",
       "      <td>40.737142</td>\n",
       "      <td>-73.980721</td>\n",
       "      <td>40.733559</td>\n",
       "      <td>1.0</td>\n",
       "      <td>5.3</td>\n",
       "    </tr>\n",
       "    <tr>\n",
       "      <th>11</th>\n",
       "      <td>2012-12-24 11:24:00 UTC</td>\n",
       "      <td>0.000000</td>\n",
       "      <td>0.000000</td>\n",
       "      <td>0.000000</td>\n",
       "      <td>0.000000</td>\n",
       "      <td>3.0</td>\n",
       "      <td>5.5</td>\n",
       "    </tr>\n",
       "    <tr>\n",
       "      <th>12</th>\n",
       "      <td>2009-11-06 01:04:03 UTC</td>\n",
       "      <td>-73.991601</td>\n",
       "      <td>40.744712</td>\n",
       "      <td>-73.983081</td>\n",
       "      <td>40.744682</td>\n",
       "      <td>2.0</td>\n",
       "      <td>4.1</td>\n",
       "    </tr>\n",
       "    <tr>\n",
       "      <th>13</th>\n",
       "      <td>2013-07-02 19:54:00 UTC</td>\n",
       "      <td>-74.005360</td>\n",
       "      <td>40.728867</td>\n",
       "      <td>-74.008913</td>\n",
       "      <td>40.710907</td>\n",
       "      <td>1.0</td>\n",
       "      <td>7.0</td>\n",
       "    </tr>\n",
       "    <tr>\n",
       "      <th>14</th>\n",
       "      <td>2011-04-05 17:11:05 UTC</td>\n",
       "      <td>-74.001821</td>\n",
       "      <td>40.737547</td>\n",
       "      <td>-73.998060</td>\n",
       "      <td>40.722788</td>\n",
       "      <td>2.0</td>\n",
       "      <td>7.7</td>\n",
       "    </tr>\n",
       "    <tr>\n",
       "      <th>15</th>\n",
       "      <td>2013-11-23 12:57:00 UTC</td>\n",
       "      <td>0.000000</td>\n",
       "      <td>0.000000</td>\n",
       "      <td>0.000000</td>\n",
       "      <td>0.000000</td>\n",
       "      <td>1.0</td>\n",
       "      <td>5.0</td>\n",
       "    </tr>\n",
       "    <tr>\n",
       "      <th>16</th>\n",
       "      <td>2014-02-19 07:22:00 UTC</td>\n",
       "      <td>-73.986430</td>\n",
       "      <td>40.760465</td>\n",
       "      <td>-73.988990</td>\n",
       "      <td>40.737075</td>\n",
       "      <td>1.0</td>\n",
       "      <td>12.5</td>\n",
       "    </tr>\n",
       "    <tr>\n",
       "      <th>17</th>\n",
       "      <td>2009-07-22 16:08:00 UTC</td>\n",
       "      <td>-73.981060</td>\n",
       "      <td>40.737690</td>\n",
       "      <td>-73.994177</td>\n",
       "      <td>40.728412</td>\n",
       "      <td>1.0</td>\n",
       "      <td>5.3</td>\n",
       "    </tr>\n",
       "    <tr>\n",
       "      <th>18</th>\n",
       "      <td>2010-07-07 14:52:00 UTC</td>\n",
       "      <td>-73.969505</td>\n",
       "      <td>40.784843</td>\n",
       "      <td>-73.958732</td>\n",
       "      <td>40.783357</td>\n",
       "      <td>1.0</td>\n",
       "      <td>5.3</td>\n",
       "    </tr>\n",
       "    <tr>\n",
       "      <th>19</th>\n",
       "      <td>2014-12-06 20:36:22 UTC</td>\n",
       "      <td>-73.979815</td>\n",
       "      <td>40.751902</td>\n",
       "      <td>-73.979446</td>\n",
       "      <td>40.755481</td>\n",
       "      <td>1.0</td>\n",
       "      <td>4.0</td>\n",
       "    </tr>\n",
       "    <tr>\n",
       "      <th>20</th>\n",
       "      <td>2010-09-07 13:18:00 UTC</td>\n",
       "      <td>-73.985382</td>\n",
       "      <td>40.747858</td>\n",
       "      <td>-73.978377</td>\n",
       "      <td>40.762070</td>\n",
       "      <td>1.0</td>\n",
       "      <td>10.5</td>\n",
       "    </tr>\n",
       "    <tr>\n",
       "      <th>21</th>\n",
       "      <td>2013-02-12 12:15:46 UTC</td>\n",
       "      <td>-73.957954</td>\n",
       "      <td>40.779252</td>\n",
       "      <td>-73.961250</td>\n",
       "      <td>40.758787</td>\n",
       "      <td>1.0</td>\n",
       "      <td>11.5</td>\n",
       "    </tr>\n",
       "    <tr>\n",
       "      <th>22</th>\n",
       "      <td>2009-08-06 18:17:23 UTC</td>\n",
       "      <td>-73.991707</td>\n",
       "      <td>40.770505</td>\n",
       "      <td>-73.985459</td>\n",
       "      <td>40.763671</td>\n",
       "      <td>1.0</td>\n",
       "      <td>4.5</td>\n",
       "    </tr>\n",
       "    <tr>\n",
       "      <th>23</th>\n",
       "      <td>2010-12-06 12:29:00 UTC</td>\n",
       "      <td>-74.000632</td>\n",
       "      <td>40.747473</td>\n",
       "      <td>-73.986672</td>\n",
       "      <td>40.740577</td>\n",
       "      <td>1.0</td>\n",
       "      <td>4.9</td>\n",
       "    </tr>\n",
       "    <tr>\n",
       "      <th>24</th>\n",
       "      <td>2009-12-10 15:37:00 UTC</td>\n",
       "      <td>-73.969622</td>\n",
       "      <td>40.756973</td>\n",
       "      <td>-73.981152</td>\n",
       "      <td>40.759712</td>\n",
       "      <td>1.0</td>\n",
       "      <td>6.1</td>\n",
       "    </tr>\n",
       "    <tr>\n",
       "      <th>25</th>\n",
       "      <td>2011-06-21 16:15:00 UTC</td>\n",
       "      <td>-73.991875</td>\n",
       "      <td>40.754437</td>\n",
       "      <td>-73.977230</td>\n",
       "      <td>40.774323</td>\n",
       "      <td>3.0</td>\n",
       "      <td>7.3</td>\n",
       "    </tr>\n",
       "    <tr>\n",
       "      <th>27</th>\n",
       "      <td>2011-06-28 19:47:00 UTC</td>\n",
       "      <td>-73.988893</td>\n",
       "      <td>40.760160</td>\n",
       "      <td>-73.986445</td>\n",
       "      <td>40.757857</td>\n",
       "      <td>3.0</td>\n",
       "      <td>4.5</td>\n",
       "    </tr>\n",
       "    <tr>\n",
       "      <th>28</th>\n",
       "      <td>2012-05-04 06:11:20 UTC</td>\n",
       "      <td>-73.989258</td>\n",
       "      <td>40.690835</td>\n",
       "      <td>-74.004133</td>\n",
       "      <td>40.725690</td>\n",
       "      <td>1.0</td>\n",
       "      <td>9.3</td>\n",
       "    </tr>\n",
       "    <tr>\n",
       "      <th>29</th>\n",
       "      <td>2013-08-11 00:52:00 UTC</td>\n",
       "      <td>-73.981020</td>\n",
       "      <td>40.737760</td>\n",
       "      <td>-73.980668</td>\n",
       "      <td>40.730497</td>\n",
       "      <td>2.0</td>\n",
       "      <td>4.5</td>\n",
       "    </tr>\n",
       "    <tr>\n",
       "      <th>30</th>\n",
       "      <td>2014-02-19 16:03:00 UTC</td>\n",
       "      <td>-73.976075</td>\n",
       "      <td>40.752422</td>\n",
       "      <td>-73.981082</td>\n",
       "      <td>40.759285</td>\n",
       "      <td>1.0</td>\n",
       "      <td>5.5</td>\n",
       "    </tr>\n",
       "    <tr>\n",
       "      <th>32</th>\n",
       "      <td>2009-01-09 16:10:00 UTC</td>\n",
       "      <td>-73.873027</td>\n",
       "      <td>40.773883</td>\n",
       "      <td>-73.984545</td>\n",
       "      <td>40.769545</td>\n",
       "      <td>3.0</td>\n",
       "      <td>31.9</td>\n",
       "    </tr>\n",
       "    <tr>\n",
       "      <th>...</th>\n",
       "      <td>...</td>\n",
       "      <td>...</td>\n",
       "      <td>...</td>\n",
       "      <td>...</td>\n",
       "      <td>...</td>\n",
       "      <td>...</td>\n",
       "      <td>...</td>\n",
       "    </tr>\n",
       "    <tr>\n",
       "      <th>16036</th>\n",
       "      <td>2010-08-17 11:34:00 UTC</td>\n",
       "      <td>-73.990103</td>\n",
       "      <td>40.729750</td>\n",
       "      <td>-73.978462</td>\n",
       "      <td>40.762383</td>\n",
       "      <td>1.0</td>\n",
       "      <td>10.5</td>\n",
       "    </tr>\n",
       "    <tr>\n",
       "      <th>16037</th>\n",
       "      <td>2012-02-27 21:40:50 UTC</td>\n",
       "      <td>-73.992618</td>\n",
       "      <td>40.723878</td>\n",
       "      <td>-73.977073</td>\n",
       "      <td>40.733778</td>\n",
       "      <td>1.0</td>\n",
       "      <td>6.5</td>\n",
       "    </tr>\n",
       "    <tr>\n",
       "      <th>16038</th>\n",
       "      <td>2010-08-31 10:43:42 UTC</td>\n",
       "      <td>-73.990336</td>\n",
       "      <td>40.718973</td>\n",
       "      <td>-73.956060</td>\n",
       "      <td>40.713974</td>\n",
       "      <td>1.0</td>\n",
       "      <td>5.7</td>\n",
       "    </tr>\n",
       "    <tr>\n",
       "      <th>16039</th>\n",
       "      <td>2010-12-11 16:25:00 UTC</td>\n",
       "      <td>-73.936462</td>\n",
       "      <td>40.794292</td>\n",
       "      <td>-73.948747</td>\n",
       "      <td>40.779097</td>\n",
       "      <td>5.0</td>\n",
       "      <td>12.9</td>\n",
       "    </tr>\n",
       "    <tr>\n",
       "      <th>16040</th>\n",
       "      <td>2014-06-16 00:05:19 UTC</td>\n",
       "      <td>-73.980597</td>\n",
       "      <td>40.744267</td>\n",
       "      <td>-73.979330</td>\n",
       "      <td>40.731205</td>\n",
       "      <td>1.0</td>\n",
       "      <td>6.5</td>\n",
       "    </tr>\n",
       "    <tr>\n",
       "      <th>16041</th>\n",
       "      <td>2014-11-17 21:53:00 UTC</td>\n",
       "      <td>-73.983610</td>\n",
       "      <td>40.747090</td>\n",
       "      <td>-73.961310</td>\n",
       "      <td>40.770980</td>\n",
       "      <td>1.0</td>\n",
       "      <td>11.0</td>\n",
       "    </tr>\n",
       "    <tr>\n",
       "      <th>16042</th>\n",
       "      <td>2015-04-06 21:53:06 UTC</td>\n",
       "      <td>-73.991425</td>\n",
       "      <td>40.749832</td>\n",
       "      <td>-74.000107</td>\n",
       "      <td>40.727898</td>\n",
       "      <td>2.0</td>\n",
       "      <td>8.5</td>\n",
       "    </tr>\n",
       "    <tr>\n",
       "      <th>16043</th>\n",
       "      <td>2011-11-17 10:58:05 UTC</td>\n",
       "      <td>-73.973961</td>\n",
       "      <td>40.764055</td>\n",
       "      <td>-73.986807</td>\n",
       "      <td>40.751617</td>\n",
       "      <td>2.0</td>\n",
       "      <td>8.5</td>\n",
       "    </tr>\n",
       "    <tr>\n",
       "      <th>16044</th>\n",
       "      <td>2013-04-29 03:05:45 UTC</td>\n",
       "      <td>-73.982785</td>\n",
       "      <td>40.731421</td>\n",
       "      <td>-74.011358</td>\n",
       "      <td>40.713788</td>\n",
       "      <td>1.0</td>\n",
       "      <td>16.5</td>\n",
       "    </tr>\n",
       "    <tr>\n",
       "      <th>16045</th>\n",
       "      <td>2013-09-19 23:56:00 UTC</td>\n",
       "      <td>-73.995227</td>\n",
       "      <td>40.733475</td>\n",
       "      <td>-73.984030</td>\n",
       "      <td>40.743287</td>\n",
       "      <td>2.0</td>\n",
       "      <td>6.5</td>\n",
       "    </tr>\n",
       "    <tr>\n",
       "      <th>16046</th>\n",
       "      <td>2014-04-24 01:48:40 UTC</td>\n",
       "      <td>-73.976298</td>\n",
       "      <td>40.753948</td>\n",
       "      <td>-73.993062</td>\n",
       "      <td>40.744550</td>\n",
       "      <td>1.0</td>\n",
       "      <td>6.0</td>\n",
       "    </tr>\n",
       "    <tr>\n",
       "      <th>16047</th>\n",
       "      <td>2010-03-18 11:09:00 UTC</td>\n",
       "      <td>-73.970733</td>\n",
       "      <td>40.758193</td>\n",
       "      <td>-73.979457</td>\n",
       "      <td>40.755830</td>\n",
       "      <td>1.0</td>\n",
       "      <td>6.1</td>\n",
       "    </tr>\n",
       "    <tr>\n",
       "      <th>16048</th>\n",
       "      <td>2012-07-10 17:32:00 UTC</td>\n",
       "      <td>-73.988040</td>\n",
       "      <td>40.774902</td>\n",
       "      <td>-74.005265</td>\n",
       "      <td>40.744157</td>\n",
       "      <td>1.0</td>\n",
       "      <td>9.7</td>\n",
       "    </tr>\n",
       "    <tr>\n",
       "      <th>16049</th>\n",
       "      <td>2012-07-31 12:27:00 UTC</td>\n",
       "      <td>-74.008657</td>\n",
       "      <td>40.715975</td>\n",
       "      <td>-73.975653</td>\n",
       "      <td>40.751233</td>\n",
       "      <td>4.0</td>\n",
       "      <td>15.7</td>\n",
       "    </tr>\n",
       "    <tr>\n",
       "      <th>16050</th>\n",
       "      <td>2013-01-23 07:36:49 UTC</td>\n",
       "      <td>-73.996715</td>\n",
       "      <td>40.742504</td>\n",
       "      <td>-73.977987</td>\n",
       "      <td>40.751805</td>\n",
       "      <td>1.0</td>\n",
       "      <td>8.5</td>\n",
       "    </tr>\n",
       "    <tr>\n",
       "      <th>16051</th>\n",
       "      <td>2014-10-01 20:05:00 UTC</td>\n",
       "      <td>-73.975540</td>\n",
       "      <td>40.755590</td>\n",
       "      <td>-73.944780</td>\n",
       "      <td>40.780050</td>\n",
       "      <td>2.0</td>\n",
       "      <td>11.5</td>\n",
       "    </tr>\n",
       "    <tr>\n",
       "      <th>16052</th>\n",
       "      <td>2014-10-03 22:24:00 UTC</td>\n",
       "      <td>-73.987298</td>\n",
       "      <td>40.722007</td>\n",
       "      <td>-74.000267</td>\n",
       "      <td>40.730342</td>\n",
       "      <td>5.0</td>\n",
       "      <td>10.0</td>\n",
       "    </tr>\n",
       "    <tr>\n",
       "      <th>16053</th>\n",
       "      <td>2014-09-23 09:49:00 UTC</td>\n",
       "      <td>-73.954977</td>\n",
       "      <td>40.788582</td>\n",
       "      <td>-73.964227</td>\n",
       "      <td>40.792305</td>\n",
       "      <td>1.0</td>\n",
       "      <td>4.0</td>\n",
       "    </tr>\n",
       "    <tr>\n",
       "      <th>16054</th>\n",
       "      <td>2009-11-28 15:58:02 UTC</td>\n",
       "      <td>-73.993929</td>\n",
       "      <td>40.756944</td>\n",
       "      <td>-73.993044</td>\n",
       "      <td>40.744088</td>\n",
       "      <td>1.0</td>\n",
       "      <td>5.3</td>\n",
       "    </tr>\n",
       "    <tr>\n",
       "      <th>16055</th>\n",
       "      <td>2012-09-05 17:34:00 UTC</td>\n",
       "      <td>-73.994077</td>\n",
       "      <td>40.741242</td>\n",
       "      <td>-73.830257</td>\n",
       "      <td>40.763645</td>\n",
       "      <td>1.0</td>\n",
       "      <td>48.3</td>\n",
       "    </tr>\n",
       "    <tr>\n",
       "      <th>16056</th>\n",
       "      <td>2012-12-17 14:59:16 UTC</td>\n",
       "      <td>0.000000</td>\n",
       "      <td>0.000000</td>\n",
       "      <td>0.000000</td>\n",
       "      <td>0.000000</td>\n",
       "      <td>1.0</td>\n",
       "      <td>38.3</td>\n",
       "    </tr>\n",
       "    <tr>\n",
       "      <th>16057</th>\n",
       "      <td>2013-01-31 15:46:00 UTC</td>\n",
       "      <td>-73.963582</td>\n",
       "      <td>40.774242</td>\n",
       "      <td>-73.956525</td>\n",
       "      <td>40.783952</td>\n",
       "      <td>6.0</td>\n",
       "      <td>5.0</td>\n",
       "    </tr>\n",
       "    <tr>\n",
       "      <th>16058</th>\n",
       "      <td>2014-04-19 14:58:57 UTC</td>\n",
       "      <td>-73.974265</td>\n",
       "      <td>40.756048</td>\n",
       "      <td>-73.980885</td>\n",
       "      <td>40.746838</td>\n",
       "      <td>2.0</td>\n",
       "      <td>5.5</td>\n",
       "    </tr>\n",
       "    <tr>\n",
       "      <th>16059</th>\n",
       "      <td>2010-01-03 18:26:00 UTC</td>\n",
       "      <td>-73.973297</td>\n",
       "      <td>40.743768</td>\n",
       "      <td>-73.986060</td>\n",
       "      <td>40.730768</td>\n",
       "      <td>3.0</td>\n",
       "      <td>5.3</td>\n",
       "    </tr>\n",
       "    <tr>\n",
       "      <th>16060</th>\n",
       "      <td>2014-10-01 09:15:00 UTC</td>\n",
       "      <td>-73.954582</td>\n",
       "      <td>40.778047</td>\n",
       "      <td>-74.005982</td>\n",
       "      <td>40.742117</td>\n",
       "      <td>1.0</td>\n",
       "      <td>22.0</td>\n",
       "    </tr>\n",
       "    <tr>\n",
       "      <th>16061</th>\n",
       "      <td>2009-05-20 18:56:42 UTC</td>\n",
       "      <td>-73.994191</td>\n",
       "      <td>40.751138</td>\n",
       "      <td>-73.962769</td>\n",
       "      <td>40.769719</td>\n",
       "      <td>1.0</td>\n",
       "      <td>10.9</td>\n",
       "    </tr>\n",
       "    <tr>\n",
       "      <th>16062</th>\n",
       "      <td>2014-12-12 07:41:00 UTC</td>\n",
       "      <td>-74.008820</td>\n",
       "      <td>40.718757</td>\n",
       "      <td>-73.998865</td>\n",
       "      <td>40.719987</td>\n",
       "      <td>1.0</td>\n",
       "      <td>6.5</td>\n",
       "    </tr>\n",
       "    <tr>\n",
       "      <th>16063</th>\n",
       "      <td>2009-07-13 07:58:00 UTC</td>\n",
       "      <td>-73.981310</td>\n",
       "      <td>40.781695</td>\n",
       "      <td>-74.014392</td>\n",
       "      <td>40.715527</td>\n",
       "      <td>2.0</td>\n",
       "      <td>16.1</td>\n",
       "    </tr>\n",
       "    <tr>\n",
       "      <th>16064</th>\n",
       "      <td>2009-11-11 11:19:07 UTC</td>\n",
       "      <td>-73.972507</td>\n",
       "      <td>40.753417</td>\n",
       "      <td>-73.979577</td>\n",
       "      <td>40.765495</td>\n",
       "      <td>1.0</td>\n",
       "      <td>8.5</td>\n",
       "    </tr>\n",
       "    <tr>\n",
       "      <th>16065</th>\n",
       "      <td>2010-05-11 23:53:00 UTC</td>\n",
       "      <td>-73.957027</td>\n",
       "      <td>40.765945</td>\n",
       "      <td>-73.981983</td>\n",
       "      <td>40.779560</td>\n",
       "      <td>1.0</td>\n",
       "      <td>8.1</td>\n",
       "    </tr>\n",
       "  </tbody>\n",
       "</table>\n",
       "<p>15973 rows × 7 columns</p>\n",
       "</div>"
      ],
      "text/plain": [
       "Variables          pickup_datetime  pickup_longitude  pickup_latitude  \\\n",
       "0          2009-06-15 17:26:21 UTC        -73.844311        40.721319   \n",
       "1          2010-01-05 16:52:16 UTC        -74.016048        40.711303   \n",
       "2          2011-08-18 00:35:00 UTC        -73.982738        40.761270   \n",
       "3          2012-04-21 04:30:42 UTC        -73.987130        40.733143   \n",
       "4          2010-03-09 07:51:00 UTC        -73.968095        40.768008   \n",
       "5          2011-01-06 09:50:45 UTC        -74.000964        40.731630   \n",
       "6          2012-11-20 20:35:00 UTC        -73.980002        40.751662   \n",
       "7          2012-01-04 17:22:00 UTC        -73.951300        40.774138   \n",
       "9          2009-09-02 01:11:00 UTC        -73.980658        40.733873   \n",
       "10         2012-04-08 07:30:50 UTC        -73.996335        40.737142   \n",
       "11         2012-12-24 11:24:00 UTC          0.000000         0.000000   \n",
       "12         2009-11-06 01:04:03 UTC        -73.991601        40.744712   \n",
       "13         2013-07-02 19:54:00 UTC        -74.005360        40.728867   \n",
       "14         2011-04-05 17:11:05 UTC        -74.001821        40.737547   \n",
       "15         2013-11-23 12:57:00 UTC          0.000000         0.000000   \n",
       "16         2014-02-19 07:22:00 UTC        -73.986430        40.760465   \n",
       "17         2009-07-22 16:08:00 UTC        -73.981060        40.737690   \n",
       "18         2010-07-07 14:52:00 UTC        -73.969505        40.784843   \n",
       "19         2014-12-06 20:36:22 UTC        -73.979815        40.751902   \n",
       "20         2010-09-07 13:18:00 UTC        -73.985382        40.747858   \n",
       "21         2013-02-12 12:15:46 UTC        -73.957954        40.779252   \n",
       "22         2009-08-06 18:17:23 UTC        -73.991707        40.770505   \n",
       "23         2010-12-06 12:29:00 UTC        -74.000632        40.747473   \n",
       "24         2009-12-10 15:37:00 UTC        -73.969622        40.756973   \n",
       "25         2011-06-21 16:15:00 UTC        -73.991875        40.754437   \n",
       "27         2011-06-28 19:47:00 UTC        -73.988893        40.760160   \n",
       "28         2012-05-04 06:11:20 UTC        -73.989258        40.690835   \n",
       "29         2013-08-11 00:52:00 UTC        -73.981020        40.737760   \n",
       "30         2014-02-19 16:03:00 UTC        -73.976075        40.752422   \n",
       "32         2009-01-09 16:10:00 UTC        -73.873027        40.773883   \n",
       "...                            ...               ...              ...   \n",
       "16036      2010-08-17 11:34:00 UTC        -73.990103        40.729750   \n",
       "16037      2012-02-27 21:40:50 UTC        -73.992618        40.723878   \n",
       "16038      2010-08-31 10:43:42 UTC        -73.990336        40.718973   \n",
       "16039      2010-12-11 16:25:00 UTC        -73.936462        40.794292   \n",
       "16040      2014-06-16 00:05:19 UTC        -73.980597        40.744267   \n",
       "16041      2014-11-17 21:53:00 UTC        -73.983610        40.747090   \n",
       "16042      2015-04-06 21:53:06 UTC        -73.991425        40.749832   \n",
       "16043      2011-11-17 10:58:05 UTC        -73.973961        40.764055   \n",
       "16044      2013-04-29 03:05:45 UTC        -73.982785        40.731421   \n",
       "16045      2013-09-19 23:56:00 UTC        -73.995227        40.733475   \n",
       "16046      2014-04-24 01:48:40 UTC        -73.976298        40.753948   \n",
       "16047      2010-03-18 11:09:00 UTC        -73.970733        40.758193   \n",
       "16048      2012-07-10 17:32:00 UTC        -73.988040        40.774902   \n",
       "16049      2012-07-31 12:27:00 UTC        -74.008657        40.715975   \n",
       "16050      2013-01-23 07:36:49 UTC        -73.996715        40.742504   \n",
       "16051      2014-10-01 20:05:00 UTC        -73.975540        40.755590   \n",
       "16052      2014-10-03 22:24:00 UTC        -73.987298        40.722007   \n",
       "16053      2014-09-23 09:49:00 UTC        -73.954977        40.788582   \n",
       "16054      2009-11-28 15:58:02 UTC        -73.993929        40.756944   \n",
       "16055      2012-09-05 17:34:00 UTC        -73.994077        40.741242   \n",
       "16056      2012-12-17 14:59:16 UTC          0.000000         0.000000   \n",
       "16057      2013-01-31 15:46:00 UTC        -73.963582        40.774242   \n",
       "16058      2014-04-19 14:58:57 UTC        -73.974265        40.756048   \n",
       "16059      2010-01-03 18:26:00 UTC        -73.973297        40.743768   \n",
       "16060      2014-10-01 09:15:00 UTC        -73.954582        40.778047   \n",
       "16061      2009-05-20 18:56:42 UTC        -73.994191        40.751138   \n",
       "16062      2014-12-12 07:41:00 UTC        -74.008820        40.718757   \n",
       "16063      2009-07-13 07:58:00 UTC        -73.981310        40.781695   \n",
       "16064      2009-11-11 11:19:07 UTC        -73.972507        40.753417   \n",
       "16065      2010-05-11 23:53:00 UTC        -73.957027        40.765945   \n",
       "\n",
       "Variables  dropoff_longitude  dropoff_latitude  passenger_count  fare_amount  \n",
       "0                 -73.841610         40.712278              1.0          4.5  \n",
       "1                 -73.979268         40.782004              1.0         16.9  \n",
       "2                 -73.991242         40.750562              2.0          5.7  \n",
       "3                 -73.991567         40.758092              1.0          7.7  \n",
       "4                 -73.956655         40.783762              1.0          5.3  \n",
       "5                 -73.972892         40.758233              1.0         12.1  \n",
       "6                 -73.973802         40.764842              1.0          7.5  \n",
       "7                 -73.990095         40.751048              1.0         16.5  \n",
       "9                 -73.991540         40.758138              2.0          8.9  \n",
       "10                -73.980721         40.733559              1.0          5.3  \n",
       "11                  0.000000          0.000000              3.0          5.5  \n",
       "12                -73.983081         40.744682              2.0          4.1  \n",
       "13                -74.008913         40.710907              1.0          7.0  \n",
       "14                -73.998060         40.722788              2.0          7.7  \n",
       "15                  0.000000          0.000000              1.0          5.0  \n",
       "16                -73.988990         40.737075              1.0         12.5  \n",
       "17                -73.994177         40.728412              1.0          5.3  \n",
       "18                -73.958732         40.783357              1.0          5.3  \n",
       "19                -73.979446         40.755481              1.0          4.0  \n",
       "20                -73.978377         40.762070              1.0         10.5  \n",
       "21                -73.961250         40.758787              1.0         11.5  \n",
       "22                -73.985459         40.763671              1.0          4.5  \n",
       "23                -73.986672         40.740577              1.0          4.9  \n",
       "24                -73.981152         40.759712              1.0          6.1  \n",
       "25                -73.977230         40.774323              3.0          7.3  \n",
       "27                -73.986445         40.757857              3.0          4.5  \n",
       "28                -74.004133         40.725690              1.0          9.3  \n",
       "29                -73.980668         40.730497              2.0          4.5  \n",
       "30                -73.981082         40.759285              1.0          5.5  \n",
       "32                -73.984545         40.769545              3.0         31.9  \n",
       "...                      ...               ...              ...          ...  \n",
       "16036             -73.978462         40.762383              1.0         10.5  \n",
       "16037             -73.977073         40.733778              1.0          6.5  \n",
       "16038             -73.956060         40.713974              1.0          5.7  \n",
       "16039             -73.948747         40.779097              5.0         12.9  \n",
       "16040             -73.979330         40.731205              1.0          6.5  \n",
       "16041             -73.961310         40.770980              1.0         11.0  \n",
       "16042             -74.000107         40.727898              2.0          8.5  \n",
       "16043             -73.986807         40.751617              2.0          8.5  \n",
       "16044             -74.011358         40.713788              1.0         16.5  \n",
       "16045             -73.984030         40.743287              2.0          6.5  \n",
       "16046             -73.993062         40.744550              1.0          6.0  \n",
       "16047             -73.979457         40.755830              1.0          6.1  \n",
       "16048             -74.005265         40.744157              1.0          9.7  \n",
       "16049             -73.975653         40.751233              4.0         15.7  \n",
       "16050             -73.977987         40.751805              1.0          8.5  \n",
       "16051             -73.944780         40.780050              2.0         11.5  \n",
       "16052             -74.000267         40.730342              5.0         10.0  \n",
       "16053             -73.964227         40.792305              1.0          4.0  \n",
       "16054             -73.993044         40.744088              1.0          5.3  \n",
       "16055             -73.830257         40.763645              1.0         48.3  \n",
       "16056               0.000000          0.000000              1.0         38.3  \n",
       "16057             -73.956525         40.783952              6.0          5.0  \n",
       "16058             -73.980885         40.746838              2.0          5.5  \n",
       "16059             -73.986060         40.730768              3.0          5.3  \n",
       "16060             -74.005982         40.742117              1.0         22.0  \n",
       "16061             -73.962769         40.769719              1.0         10.9  \n",
       "16062             -73.998865         40.719987              1.0          6.5  \n",
       "16063             -74.014392         40.715527              2.0         16.1  \n",
       "16064             -73.979577         40.765495              1.0          8.5  \n",
       "16065             -73.981983         40.779560              1.0          8.1  \n",
       "\n",
       "[15973 rows x 7 columns]"
      ]
     },
     "execution_count": 798,
     "metadata": {},
     "output_type": "execute_result"
    }
   ],
   "source": [
    "car_data"
   ]
  },
  {
   "cell_type": "code",
   "execution_count": 799,
   "metadata": {},
   "outputs": [],
   "source": [
    "car_data = car_data.drop(car_data[car_data.loc[:,'passenger_count']>6].index)\n",
    "car_data = car_data.drop(car_data[car_data.loc[:,'passenger_count']<1].index)\n",
    "car_data = car_data.drop(car_data[car_data.loc[:,'passenger_count']==1.3].index)"
   ]
  },
  {
   "cell_type": "code",
   "execution_count": 800,
   "metadata": {},
   "outputs": [
    {
     "data": {
      "text/html": [
       "<div>\n",
       "<style scoped>\n",
       "    .dataframe tbody tr th:only-of-type {\n",
       "        vertical-align: middle;\n",
       "    }\n",
       "\n",
       "    .dataframe tbody tr th {\n",
       "        vertical-align: top;\n",
       "    }\n",
       "\n",
       "    .dataframe thead th {\n",
       "        text-align: right;\n",
       "    }\n",
       "</style>\n",
       "<table border=\"1\" class=\"dataframe\">\n",
       "  <thead>\n",
       "    <tr style=\"text-align: right;\">\n",
       "      <th>Variables</th>\n",
       "      <th>pickup_longitude</th>\n",
       "      <th>pickup_latitude</th>\n",
       "      <th>dropoff_longitude</th>\n",
       "      <th>dropoff_latitude</th>\n",
       "      <th>passenger_count</th>\n",
       "      <th>fare_amount</th>\n",
       "    </tr>\n",
       "  </thead>\n",
       "  <tbody>\n",
       "    <tr>\n",
       "      <th>count</th>\n",
       "      <td>15895.000000</td>\n",
       "      <td>15895.000000</td>\n",
       "      <td>15895.000000</td>\n",
       "      <td>15895.000000</td>\n",
       "      <td>15895.00000</td>\n",
       "      <td>15895.000000</td>\n",
       "    </tr>\n",
       "    <tr>\n",
       "      <th>mean</th>\n",
       "      <td>-72.478978</td>\n",
       "      <td>39.923655</td>\n",
       "      <td>-72.469232</td>\n",
       "      <td>39.901492</td>\n",
       "      <td>1.64989</td>\n",
       "      <td>11.282278</td>\n",
       "    </tr>\n",
       "    <tr>\n",
       "      <th>std</th>\n",
       "      <td>10.525042</td>\n",
       "      <td>6.811581</td>\n",
       "      <td>10.553019</td>\n",
       "      <td>6.179470</td>\n",
       "      <td>1.26606</td>\n",
       "      <td>9.392527</td>\n",
       "    </tr>\n",
       "    <tr>\n",
       "      <th>min</th>\n",
       "      <td>-74.438233</td>\n",
       "      <td>-74.006893</td>\n",
       "      <td>-74.227047</td>\n",
       "      <td>-74.006377</td>\n",
       "      <td>1.00000</td>\n",
       "      <td>1.140000</td>\n",
       "    </tr>\n",
       "    <tr>\n",
       "      <th>25%</th>\n",
       "      <td>-73.992141</td>\n",
       "      <td>40.734966</td>\n",
       "      <td>-73.991179</td>\n",
       "      <td>40.734751</td>\n",
       "      <td>1.00000</td>\n",
       "      <td>6.000000</td>\n",
       "    </tr>\n",
       "    <tr>\n",
       "      <th>50%</th>\n",
       "      <td>-73.981689</td>\n",
       "      <td>40.752640</td>\n",
       "      <td>-73.980158</td>\n",
       "      <td>40.753574</td>\n",
       "      <td>1.00000</td>\n",
       "      <td>8.500000</td>\n",
       "    </tr>\n",
       "    <tr>\n",
       "      <th>75%</th>\n",
       "      <td>-73.966819</td>\n",
       "      <td>40.767387</td>\n",
       "      <td>-73.963646</td>\n",
       "      <td>40.768021</td>\n",
       "      <td>2.00000</td>\n",
       "      <td>12.500000</td>\n",
       "    </tr>\n",
       "    <tr>\n",
       "      <th>max</th>\n",
       "      <td>40.766125</td>\n",
       "      <td>401.083332</td>\n",
       "      <td>40.802437</td>\n",
       "      <td>41.366138</td>\n",
       "      <td>6.00000</td>\n",
       "      <td>96.000000</td>\n",
       "    </tr>\n",
       "  </tbody>\n",
       "</table>\n",
       "</div>"
      ],
      "text/plain": [
       "Variables  pickup_longitude  pickup_latitude  dropoff_longitude  \\\n",
       "count          15895.000000     15895.000000       15895.000000   \n",
       "mean             -72.478978        39.923655         -72.469232   \n",
       "std               10.525042         6.811581          10.553019   \n",
       "min              -74.438233       -74.006893         -74.227047   \n",
       "25%              -73.992141        40.734966         -73.991179   \n",
       "50%              -73.981689        40.752640         -73.980158   \n",
       "75%              -73.966819        40.767387         -73.963646   \n",
       "max               40.766125       401.083332          40.802437   \n",
       "\n",
       "Variables  dropoff_latitude  passenger_count   fare_amount  \n",
       "count          15895.000000      15895.00000  15895.000000  \n",
       "mean              39.901492          1.64989     11.282278  \n",
       "std                6.179470          1.26606      9.392527  \n",
       "min              -74.006377          1.00000      1.140000  \n",
       "25%               40.734751          1.00000      6.000000  \n",
       "50%               40.753574          1.00000      8.500000  \n",
       "75%               40.768021          2.00000     12.500000  \n",
       "max               41.366138          6.00000     96.000000  "
      ]
     },
     "execution_count": 800,
     "metadata": {},
     "output_type": "execute_result"
    }
   ],
   "source": [
    "car_data.describe()"
   ]
  },
  {
   "cell_type": "code",
   "execution_count": 801,
   "metadata": {},
   "outputs": [
    {
     "data": {
      "text/plain": [
       "4479     6.0\n",
       "6817     6.0\n",
       "5675     6.0\n",
       "4015     6.0\n",
       "13109    6.0\n",
       "Name: passenger_count, dtype: float64"
      ]
     },
     "execution_count": 801,
     "metadata": {},
     "output_type": "execute_result"
    }
   ],
   "source": [
    "car_data['passenger_count'].sort_values(ascending = False).head()"
   ]
  },
  {
   "cell_type": "code",
   "execution_count": 802,
   "metadata": {},
   "outputs": [
    {
     "data": {
      "text/plain": [
       "1.0    11230\n",
       "2.0     2318\n",
       "5.0     1044\n",
       "3.0      675\n",
       "4.0      327\n",
       "6.0      301\n",
       "Name: passenger_count, dtype: int64"
      ]
     },
     "execution_count": 802,
     "metadata": {},
     "output_type": "execute_result"
    }
   ],
   "source": [
    "car_data['passenger_count'].value_counts()"
   ]
  },
  {
   "cell_type": "code",
   "execution_count": 803,
   "metadata": {},
   "outputs": [
    {
     "data": {
      "text/plain": [
       "<matplotlib.axes._subplots.AxesSubplot at 0x14954cf8>"
      ]
     },
     "execution_count": 803,
     "metadata": {},
     "output_type": "execute_result"
    },
    {
     "data": {
      "image/png": "[encoded data removed]",
      "text/plain": [
       "<matplotlib.figure.Figure at 0x149545f8>"
      ]
     },
     "metadata": {},
     "output_type": "display_data"
    }
   ],
   "source": [
    "sns.boxplot(car_data['passenger_count'])"
   ]
  },
  {
   "cell_type": "code",
   "execution_count": 804,
   "metadata": {},
   "outputs": [
    {
     "data": {
      "text/plain": [
       "(15895, 7)"
      ]
     },
     "execution_count": 804,
     "metadata": {},
     "output_type": "execute_result"
    }
   ],
   "source": [
    "car_data.shape"
   ]
  },
  {
   "cell_type": "markdown",
   "metadata": {},
   "source": [
    "# Pickup latitude and longitude data analysis"
   ]
  },
  {
   "cell_type": "code",
   "execution_count": 805,
   "metadata": {},
   "outputs": [
    {
     "data": {
      "text/plain": [
       "<matplotlib.axes._subplots.AxesSubplot at 0x1499b320>"
      ]
     },
     "execution_count": 805,
     "metadata": {},
     "output_type": "execute_result"
    },
    {
     "data": {
      "image/png": "[encoded data removed]",
      "text/plain": [
       "<matplotlib.figure.Figure at 0x1481f748>"
      ]
     },
     "metadata": {},
     "output_type": "display_data"
    }
   ],
   "source": [
    "sns.boxplot(car_data['pickup_latitude'])"
   ]
  },
  {
   "cell_type": "code",
   "execution_count": 806,
   "metadata": {},
   "outputs": [
    {
     "data": {
      "text/plain": [
       "8443     -74.006893\n",
       "10091    -74.006210\n",
       "9548     -73.992947\n",
       "4783     -73.991840\n",
       "3827     -73.988467\n",
       "2147     -73.986968\n",
       "6705     -73.983285\n",
       "7525     -73.973047\n",
       "10411      0.000000\n",
       "13213      0.000000\n",
       "9266       0.000000\n",
       "13221      0.000000\n",
       "3760       0.000000\n",
       "13181      0.000000\n",
       "3765       0.000000\n",
       "1783       0.000000\n",
       "3711       0.000000\n",
       "9270       0.000000\n",
       "13264      0.000000\n",
       "13114      0.000000\n",
       "9246       0.000000\n",
       "13298      0.000000\n",
       "13304      0.000000\n",
       "6297       0.000000\n",
       "6302       0.000000\n",
       "1441       0.000000\n",
       "13340      0.000000\n",
       "13355      0.000000\n",
       "13365      0.000000\n",
       "13239      0.000000\n",
       "            ...    \n",
       "2918      40.839893\n",
       "4458      40.840073\n",
       "9960      40.840880\n",
       "8707      40.841389\n",
       "6371      40.841428\n",
       "2107      40.841443\n",
       "2346      40.841982\n",
       "9927      40.850190\n",
       "3587      40.850443\n",
       "8955      40.852708\n",
       "1147      40.857380\n",
       "11463     40.858017\n",
       "4313      40.865160\n",
       "11366     40.866375\n",
       "12934     40.876620\n",
       "4004      40.876747\n",
       "3394      40.956018\n",
       "649       40.993260\n",
       "11187     41.035688\n",
       "3075      41.366138\n",
       "5648      41.366138\n",
       "6416      41.366138\n",
       "7043      41.366138\n",
       "5663      41.366138\n",
       "14367     41.366138\n",
       "10688     41.366138\n",
       "9808      41.366138\n",
       "1684      41.366138\n",
       "4487      41.366138\n",
       "5686     401.083332\n",
       "Name: pickup_latitude, Length: 15895, dtype: float64"
      ]
     },
     "execution_count": 806,
     "metadata": {},
     "output_type": "execute_result"
    }
   ],
   "source": [
    "car_data['pickup_latitude'].sort_values(ascending = True)"
   ]
  },
  {
   "cell_type": "code",
   "execution_count": 807,
   "metadata": {},
   "outputs": [],
   "source": [
    "car_data = car_data.drop(car_data[car_data.loc[:,'pickup_latitude']<39].index)\n",
    "car_data = car_data.drop(car_data[car_data.loc[:,'pickup_latitude']>43].index)"
   ]
  },
  {
   "cell_type": "code",
   "execution_count": 808,
   "metadata": {},
   "outputs": [
    {
     "data": {
      "text/plain": [
       "<matplotlib.axes._subplots.AxesSubplot at 0x149a1710>"
      ]
     },
     "execution_count": 808,
     "metadata": {},
     "output_type": "execute_result"
    },
    {
     "data": {
      "image/png": "[encoded data removed]",
      "text/plain": [
       "<matplotlib.figure.Figure at 0x148694e0>"
      ]
     },
     "metadata": {},
     "output_type": "display_data"
    }
   ],
   "source": [
    "sns.boxplot(car_data['pickup_latitude'])"
   ]
  },
  {
   "cell_type": "code",
   "execution_count": 809,
   "metadata": {},
   "outputs": [
    {
     "data": {
      "text/plain": [
       "649     -74.438233\n",
       "12940   -74.229138\n",
       "10524   -74.181602\n",
       "9090    -74.133710\n",
       "12173   -74.129877\n",
       "1494    -74.105395\n",
       "7635    -74.102257\n",
       "11964   -74.089848\n",
       "2346    -74.086412\n",
       "12934   -74.076830\n",
       "13836   -74.072833\n",
       "13736   -74.064055\n",
       "13756   -74.063010\n",
       "7096    -74.042958\n",
       "14136   -74.041883\n",
       "9775    -74.039047\n",
       "105     -74.035839\n",
       "4291    -74.031268\n",
       "10485   -74.023050\n",
       "13600   -74.018108\n",
       "14938   -74.017776\n",
       "4410    -74.017288\n",
       "8423    -74.017255\n",
       "14448   -74.017236\n",
       "1916    -74.017199\n",
       "2122    -74.017173\n",
       "14191   -74.017148\n",
       "11620   -74.017095\n",
       "2735    -74.017087\n",
       "4828    -74.017067\n",
       "           ...    \n",
       "5795    -73.776708\n",
       "5474    -73.776707\n",
       "8163    -73.776703\n",
       "11280   -73.776702\n",
       "4118    -73.776700\n",
       "14099   -73.776687\n",
       "9854    -73.776685\n",
       "13603   -73.776652\n",
       "6978    -73.776644\n",
       "4347    -73.776620\n",
       "7699    -73.776600\n",
       "737     -73.776477\n",
       "15366   -73.776343\n",
       "4086    -73.776293\n",
       "7908    -73.725993\n",
       "13175   -73.688170\n",
       "12915   -73.652179\n",
       "11187   -73.649355\n",
       "6308    -73.422692\n",
       "13571   -73.416169\n",
       "5648    -73.137393\n",
       "4487    -73.137393\n",
       "7043    -73.137393\n",
       "6416    -73.137393\n",
       "10688   -73.137393\n",
       "9808    -73.137393\n",
       "14367   -73.137393\n",
       "1684    -73.137393\n",
       "3075    -73.137393\n",
       "5663    -73.137393\n",
       "Name: pickup_longitude, Length: 15577, dtype: float64"
      ]
     },
     "execution_count": 809,
     "metadata": {},
     "output_type": "execute_result"
    }
   ],
   "source": [
    "car_data['pickup_longitude'].sort_values(ascending = True)"
   ]
  },
  {
   "cell_type": "code",
   "execution_count": 810,
   "metadata": {},
   "outputs": [],
   "source": [
    "car_data=car_data.drop(car_data[car_data.loc[:,'pickup_longitude']>-72].index)\n",
    "car_data=car_data.drop(car_data[car_data.loc[:,'pickup_longitude']<-76].index)"
   ]
  },
  {
   "cell_type": "code",
   "execution_count": 811,
   "metadata": {},
   "outputs": [
    {
     "data": {
      "text/plain": [
       "<matplotlib.axes._subplots.AxesSubplot at 0x15095588>"
      ]
     },
     "execution_count": 811,
     "metadata": {},
     "output_type": "execute_result"
    },
    {
     "data": {
      "image/png": "[encoded data removed]",
      "text/plain": [
       "<matplotlib.figure.Figure at 0x15060940>"
      ]
     },
     "metadata": {},
     "output_type": "display_data"
    }
   ],
   "source": [
    "sns.boxplot(car_data['pickup_longitude'])"
   ]
  },
  {
   "cell_type": "code",
   "execution_count": 812,
   "metadata": {},
   "outputs": [
    {
     "data": {
      "text/plain": [
       "(15577, 7)"
      ]
     },
     "execution_count": 812,
     "metadata": {},
     "output_type": "execute_result"
    }
   ],
   "source": [
    "car_data.shape"
   ]
  },
  {
   "cell_type": "markdown",
   "metadata": {},
   "source": [
    "# Dropoff longitude and latitude"
   ]
  },
  {
   "cell_type": "code",
   "execution_count": 813,
   "metadata": {},
   "outputs": [
    {
     "data": {
      "text/plain": [
       "Index(['pickup_datetime', 'pickup_longitude', 'pickup_latitude',\n",
       "       'dropoff_longitude', 'dropoff_latitude', 'passenger_count',\n",
       "       'fare_amount'],\n",
       "      dtype='object', name='Variables')"
      ]
     },
     "execution_count": 813,
     "metadata": {},
     "output_type": "execute_result"
    }
   ],
   "source": [
    "car_data.columns"
   ]
  },
  {
   "cell_type": "code",
   "execution_count": 814,
   "metadata": {},
   "outputs": [
    {
     "data": {
      "text/plain": [
       "12940   -74.227047\n",
       "649     -74.185996\n",
       "4620    -74.183955\n",
       "9431    -74.183504\n",
       "12614   -74.183312\n",
       "2013    -74.183247\n",
       "4013    -74.183238\n",
       "7716    -74.182495\n",
       "10524   -74.181602\n",
       "8363    -74.178093\n",
       "7152    -74.177992\n",
       "9651    -74.177897\n",
       "14519   -74.177755\n",
       "6211    -74.177489\n",
       "6972    -74.177459\n",
       "5297    -74.177341\n",
       "10231   -74.177318\n",
       "11743   -74.177202\n",
       "4011    -74.177160\n",
       "13962   -74.177115\n",
       "1709    -74.177083\n",
       "6668    -74.177034\n",
       "4064    -74.177023\n",
       "12437   -74.176987\n",
       "2639    -74.176925\n",
       "4353    -74.162477\n",
       "10000   -74.138033\n",
       "12173   -74.136677\n",
       "9090    -74.135442\n",
       "7635    -74.113213\n",
       "           ...    \n",
       "14569   -73.735343\n",
       "7908    -73.726348\n",
       "1127    -73.719100\n",
       "13615   -73.717443\n",
       "13175   -73.699185\n",
       "11187   -73.656815\n",
       "7810    -73.652193\n",
       "12915   -73.652179\n",
       "10077   -73.602318\n",
       "15023   -73.587587\n",
       "13571   -73.416169\n",
       "14367   -73.137393\n",
       "6416    -73.137393\n",
       "10688   -73.137393\n",
       "7401    -73.137393\n",
       "7043    -73.137393\n",
       "5648    -73.137393\n",
       "9899    -73.137393\n",
       "5864     -7.986640\n",
       "10458     0.000000\n",
       "4278      0.000000\n",
       "2280      0.000000\n",
       "1260      0.000000\n",
       "10672     0.000000\n",
       "12983     0.000000\n",
       "12705     0.000000\n",
       "8647      0.000000\n",
       "15749     0.000000\n",
       "10488     0.000000\n",
       "14197     0.000000\n",
       "Name: dropoff_longitude, Length: 15577, dtype: float64"
      ]
     },
     "execution_count": 814,
     "metadata": {},
     "output_type": "execute_result"
    }
   ],
   "source": [
    "car_data['dropoff_longitude'].sort_values(ascending = True)"
   ]
  },
  {
   "cell_type": "code",
   "execution_count": 815,
   "metadata": {},
   "outputs": [],
   "source": [
    "car_data= car_data.drop(car_data[car_data.loc[:,'dropoff_longitude']>-72].index)\n",
    "car_data= car_data.drop(car_data[car_data.loc[:,'dropoff_longitude']<-76].index)"
   ]
  },
  {
   "cell_type": "code",
   "execution_count": 816,
   "metadata": {},
   "outputs": [
    {
     "data": {
      "text/plain": [
       "<matplotlib.axes._subplots.AxesSubplot at 0x151c4f60>"
      ]
     },
     "execution_count": 816,
     "metadata": {},
     "output_type": "execute_result"
    },
    {
     "data": {
      "image/png": "[encoded data removed]",
      "text/plain": [
       "<matplotlib.figure.Figure at 0x1509ccf8>"
      ]
     },
     "metadata": {},
     "output_type": "display_data"
    }
   ],
   "source": [
    "sns.boxplot(car_data['dropoff_longitude'])"
   ]
  },
  {
   "cell_type": "code",
   "execution_count": 817,
   "metadata": {},
   "outputs": [
    {
     "data": {
      "text/plain": [
       "7014      0.728087\n",
       "8584     39.604972\n",
       "8334     39.605025\n",
       "14536    39.610030\n",
       "12228    39.610604\n",
       "8176     39.625547\n",
       "14421    40.164927\n",
       "12173    40.316153\n",
       "4567     40.484335\n",
       "13736    40.543870\n",
       "10000    40.550097\n",
       "4291     40.551710\n",
       "12398    40.574652\n",
       "8552     40.574729\n",
       "2283     40.577815\n",
       "12940    40.581207\n",
       "7635     40.582228\n",
       "11488    40.584596\n",
       "13506    40.588240\n",
       "10898    40.588485\n",
       "5044     40.590033\n",
       "5795     40.590188\n",
       "6971     40.590317\n",
       "6384     40.597675\n",
       "7368     40.598020\n",
       "11964    40.602097\n",
       "11859    40.604206\n",
       "8347     40.604415\n",
       "9533     40.605535\n",
       "4353     40.606746\n",
       "           ...    \n",
       "5196     40.871050\n",
       "6818     40.871675\n",
       "2454     40.871892\n",
       "7199     40.873300\n",
       "8090     40.873954\n",
       "4789     40.877547\n",
       "9747     40.884017\n",
       "4692     40.884172\n",
       "7452     40.884410\n",
       "3290     40.885300\n",
       "4654     40.885355\n",
       "9729     40.885884\n",
       "9991     40.887539\n",
       "2834     40.893033\n",
       "1623     40.896535\n",
       "8105     40.898910\n",
       "11231    40.899325\n",
       "15207    40.904590\n",
       "7021     40.905170\n",
       "7769     40.911461\n",
       "4118     40.921800\n",
       "3394     40.954298\n",
       "11187    41.028363\n",
       "9899     41.366138\n",
       "7401     41.366138\n",
       "10688    41.366138\n",
       "6416     41.366138\n",
       "7043     41.366138\n",
       "5648     41.366138\n",
       "14367    41.366138\n",
       "Name: dropoff_latitude, Length: 15565, dtype: float64"
      ]
     },
     "execution_count": 817,
     "metadata": {},
     "output_type": "execute_result"
    }
   ],
   "source": [
    "car_data['dropoff_latitude'].sort_values(ascending = True)"
   ]
  },
  {
   "cell_type": "code",
   "execution_count": 818,
   "metadata": {},
   "outputs": [],
   "source": [
    "car_data= car_data.drop(car_data[car_data.loc[:,'dropoff_latitude']<39].index)\n",
    "car_data= car_data.drop(car_data[car_data.loc[:,'dropoff_latitude']>43].index)"
   ]
  },
  {
   "cell_type": "code",
   "execution_count": 819,
   "metadata": {},
   "outputs": [
    {
     "data": {
      "text/plain": [
       "<matplotlib.axes._subplots.AxesSubplot at 0x1509ca58>"
      ]
     },
     "execution_count": 819,
     "metadata": {},
     "output_type": "execute_result"
    },
    {
     "data": {
      "image/png": "[encoded data removed]",
      "text/plain": [
       "<matplotlib.figure.Figure at 0x149a1cf8>"
      ]
     },
     "metadata": {},
     "output_type": "display_data"
    }
   ],
   "source": [
    "sns.boxplot(car_data['dropoff_latitude'])"
   ]
  },
  {
   "cell_type": "code",
   "execution_count": 820,
   "metadata": {},
   "outputs": [],
   "source": [
    "#sns.pairplot(car_data,vars = ['pickup_longitude', 'pickup_latitude',\n",
    "       #'dropoff_longitude', 'dropoff_latitude', 'passenger_count',\n",
    "       #'fare_amount'],diag_kind = \"kde\",kind= \"reg\")"
   ]
  },
  {
   "cell_type": "code",
   "execution_count": 821,
   "metadata": {},
   "outputs": [
    {
     "name": "stdout",
     "output_type": "stream",
     "text": [
      "<class 'pandas.core.frame.DataFrame'>\n",
      "Int64Index: 15564 entries, 0 to 16065\n",
      "Data columns (total 7 columns):\n",
      "pickup_datetime      15564 non-null object\n",
      "pickup_longitude     15564 non-null float64\n",
      "pickup_latitude      15564 non-null float64\n",
      "dropoff_longitude    15564 non-null float64\n",
      "dropoff_latitude     15564 non-null float64\n",
      "passenger_count      15564 non-null float64\n",
      "fare_amount          15564 non-null float64\n",
      "dtypes: float64(6), object(1)\n",
      "memory usage: 972.8+ KB\n"
     ]
    }
   ],
   "source": [
    "car_data.info()"
   ]
  },
  {
   "cell_type": "code",
   "execution_count": 822,
   "metadata": {},
   "outputs": [],
   "source": [
    "#car_data['pickup_datetime'] =  pd.to_datetime(car_data['pickup_datetime'], format='%Y-%m-%d %H:%M:%S UTC')"
   ]
  },
  {
   "cell_type": "code",
   "execution_count": 823,
   "metadata": {},
   "outputs": [],
   "source": [
    "car_data = car_data.drop(car_data[car_data.loc[:,'pickup_datetime']=='43'].index)"
   ]
  },
  {
   "cell_type": "code",
   "execution_count": 824,
   "metadata": {},
   "outputs": [],
   "source": [
    "car_data['pickup_datetime'] =  pd.to_datetime(car_data['pickup_datetime'], format='%Y-%m-%d %H:%M:%S UTC')"
   ]
  },
  {
   "cell_type": "code",
   "execution_count": 825,
   "metadata": {},
   "outputs": [
    {
     "name": "stdout",
     "output_type": "stream",
     "text": [
      "<class 'pandas.core.frame.DataFrame'>\n",
      "Int64Index: 15563 entries, 0 to 16065\n",
      "Data columns (total 7 columns):\n",
      "pickup_datetime      15563 non-null datetime64[ns]\n",
      "pickup_longitude     15563 non-null float64\n",
      "pickup_latitude      15563 non-null float64\n",
      "dropoff_longitude    15563 non-null float64\n",
      "dropoff_latitude     15563 non-null float64\n",
      "passenger_count      15563 non-null float64\n",
      "fare_amount          15563 non-null float64\n",
      "dtypes: datetime64[ns](1), float64(6)\n",
      "memory usage: 972.7 KB\n"
     ]
    }
   ],
   "source": [
    "car_data.info()"
   ]
  },
  {
   "cell_type": "code",
   "execution_count": 826,
   "metadata": {},
   "outputs": [],
   "source": [
    "car_data['year'] = car_data['pickup_datetime'].dt.year\n",
    "car_data['Month'] = car_data['pickup_datetime'].dt.month\n",
    "car_data['Date'] = car_data['pickup_datetime'].dt.day\n",
    "car_data['Day'] = car_data['pickup_datetime'].dt.dayofweek\n",
    "car_data['Hour'] = car_data['pickup_datetime'].dt.hour\n",
    "car_data['Minute'] = car_data['pickup_datetime'].dt.minute"
   ]
  },
  {
   "cell_type": "code",
   "execution_count": 827,
   "metadata": {},
   "outputs": [
    {
     "data": {
      "text/html": [
       "<div>\n",
       "<style scoped>\n",
       "    .dataframe tbody tr th:only-of-type {\n",
       "        vertical-align: middle;\n",
       "    }\n",
       "\n",
       "    .dataframe tbody tr th {\n",
       "        vertical-align: top;\n",
       "    }\n",
       "\n",
       "    .dataframe thead th {\n",
       "        text-align: right;\n",
       "    }\n",
       "</style>\n",
       "<table border=\"1\" class=\"dataframe\">\n",
       "  <thead>\n",
       "    <tr style=\"text-align: right;\">\n",
       "      <th>Variables</th>\n",
       "      <th>pickup_datetime</th>\n",
       "      <th>pickup_longitude</th>\n",
       "      <th>pickup_latitude</th>\n",
       "      <th>dropoff_longitude</th>\n",
       "      <th>dropoff_latitude</th>\n",
       "      <th>passenger_count</th>\n",
       "      <th>fare_amount</th>\n",
       "      <th>year</th>\n",
       "      <th>Month</th>\n",
       "      <th>Date</th>\n",
       "      <th>Day</th>\n",
       "      <th>Hour</th>\n",
       "      <th>Minute</th>\n",
       "    </tr>\n",
       "  </thead>\n",
       "  <tbody>\n",
       "    <tr>\n",
       "      <th>0</th>\n",
       "      <td>2009-06-15 17:26:21</td>\n",
       "      <td>-73.844311</td>\n",
       "      <td>40.721319</td>\n",
       "      <td>-73.841610</td>\n",
       "      <td>40.712278</td>\n",
       "      <td>1.0</td>\n",
       "      <td>4.5</td>\n",
       "      <td>2009</td>\n",
       "      <td>6</td>\n",
       "      <td>15</td>\n",
       "      <td>0</td>\n",
       "      <td>17</td>\n",
       "      <td>26</td>\n",
       "    </tr>\n",
       "    <tr>\n",
       "      <th>1</th>\n",
       "      <td>2010-01-05 16:52:16</td>\n",
       "      <td>-74.016048</td>\n",
       "      <td>40.711303</td>\n",
       "      <td>-73.979268</td>\n",
       "      <td>40.782004</td>\n",
       "      <td>1.0</td>\n",
       "      <td>16.9</td>\n",
       "      <td>2010</td>\n",
       "      <td>1</td>\n",
       "      <td>5</td>\n",
       "      <td>1</td>\n",
       "      <td>16</td>\n",
       "      <td>52</td>\n",
       "    </tr>\n",
       "    <tr>\n",
       "      <th>2</th>\n",
       "      <td>2011-08-18 00:35:00</td>\n",
       "      <td>-73.982738</td>\n",
       "      <td>40.761270</td>\n",
       "      <td>-73.991242</td>\n",
       "      <td>40.750562</td>\n",
       "      <td>2.0</td>\n",
       "      <td>5.7</td>\n",
       "      <td>2011</td>\n",
       "      <td>8</td>\n",
       "      <td>18</td>\n",
       "      <td>3</td>\n",
       "      <td>0</td>\n",
       "      <td>35</td>\n",
       "    </tr>\n",
       "    <tr>\n",
       "      <th>3</th>\n",
       "      <td>2012-04-21 04:30:42</td>\n",
       "      <td>-73.987130</td>\n",
       "      <td>40.733143</td>\n",
       "      <td>-73.991567</td>\n",
       "      <td>40.758092</td>\n",
       "      <td>1.0</td>\n",
       "      <td>7.7</td>\n",
       "      <td>2012</td>\n",
       "      <td>4</td>\n",
       "      <td>21</td>\n",
       "      <td>5</td>\n",
       "      <td>4</td>\n",
       "      <td>30</td>\n",
       "    </tr>\n",
       "    <tr>\n",
       "      <th>4</th>\n",
       "      <td>2010-03-09 07:51:00</td>\n",
       "      <td>-73.968095</td>\n",
       "      <td>40.768008</td>\n",
       "      <td>-73.956655</td>\n",
       "      <td>40.783762</td>\n",
       "      <td>1.0</td>\n",
       "      <td>5.3</td>\n",
       "      <td>2010</td>\n",
       "      <td>3</td>\n",
       "      <td>9</td>\n",
       "      <td>1</td>\n",
       "      <td>7</td>\n",
       "      <td>51</td>\n",
       "    </tr>\n",
       "  </tbody>\n",
       "</table>\n",
       "</div>"
      ],
      "text/plain": [
       "Variables     pickup_datetime  pickup_longitude  pickup_latitude  \\\n",
       "0         2009-06-15 17:26:21        -73.844311        40.721319   \n",
       "1         2010-01-05 16:52:16        -74.016048        40.711303   \n",
       "2         2011-08-18 00:35:00        -73.982738        40.761270   \n",
       "3         2012-04-21 04:30:42        -73.987130        40.733143   \n",
       "4         2010-03-09 07:51:00        -73.968095        40.768008   \n",
       "\n",
       "Variables  dropoff_longitude  dropoff_latitude  passenger_count  fare_amount  \\\n",
       "0                 -73.841610         40.712278              1.0          4.5   \n",
       "1                 -73.979268         40.782004              1.0         16.9   \n",
       "2                 -73.991242         40.750562              2.0          5.7   \n",
       "3                 -73.991567         40.758092              1.0          7.7   \n",
       "4                 -73.956655         40.783762              1.0          5.3   \n",
       "\n",
       "Variables  year  Month  Date  Day  Hour  Minute  \n",
       "0          2009      6    15    0    17      26  \n",
       "1          2010      1     5    1    16      52  \n",
       "2          2011      8    18    3     0      35  \n",
       "3          2012      4    21    5     4      30  \n",
       "4          2010      3     9    1     7      51  "
      ]
     },
     "execution_count": 827,
     "metadata": {},
     "output_type": "execute_result"
    }
   ],
   "source": [
    "car_data.head()"
   ]
  },
  {
   "cell_type": "code",
   "execution_count": 828,
   "metadata": {},
   "outputs": [],
   "source": [
    "def harvesine_distance(lat1, long1, lat2, long2):\n",
    "    data = [car_data]\n",
    "    for i in data: \n",
    "        R = 6371 #radius of earth in kilometers\n",
    "        #R = 3959 #radius of earth in miles\n",
    "        phi1 = np.radians(i[lat1])\n",
    "        phi2 = np.radians(i[lat2])\n",
    "        \n",
    "        delta_phi = np.radians(i[lat2] - i[lat1])\n",
    "        delta_lambda = np.radians(i[long2]-i[long1])\n",
    "        \n",
    "        #a = sin²((φB - φA)/2) + cos φA . cos φB . sin²((λB - λA)/2)\n",
    "        a = np.sin(delta_phi/2.0)**2 + np.cos(phi1) * np.cos(phi2)* np.sin(delta_lambda/2.0)**2\n",
    "        \n",
    "        #c = 2 * arctan2( √a, √(1−a) )\n",
    "        c = 2 * np.arctan2(np.sqrt(a), np.sqrt(1-a))\n",
    "        \n",
    "        #d = R * c\n",
    "        d = (R * c) #distance in kilometers\n",
    "        i['H_Distance'] = d\n",
    "    return d"
   ]
  },
  {
   "cell_type": "code",
   "execution_count": 829,
   "metadata": {},
   "outputs": [
    {
     "data": {
      "text/plain": [
       "0         1.030764\n",
       "1         8.450134\n",
       "2         1.389525\n",
       "3         2.799270\n",
       "4         1.999157\n",
       "5         3.787239\n",
       "6         1.555807\n",
       "7         4.155444\n",
       "9         2.849627\n",
       "10        1.374577\n",
       "12        0.717767\n",
       "13        2.019384\n",
       "14        1.671445\n",
       "16        2.609774\n",
       "17        1.511904\n",
       "18        0.921952\n",
       "19        0.399179\n",
       "20        1.686861\n",
       "21        2.292470\n",
       "22        0.924296\n",
       "23        1.403958\n",
       "24        1.017773\n",
       "25        2.531947\n",
       "27        0.328771\n",
       "28        4.073463\n",
       "29        0.808153\n",
       "30        0.871913\n",
       "32        9.403296\n",
       "33        1.381589\n",
       "34        7.150503\n",
       "           ...    \n",
       "16035     2.236055\n",
       "16036     3.758805\n",
       "16037     1.711032\n",
       "16038     2.941770\n",
       "16039     1.981039\n",
       "16040     1.456346\n",
       "16041     3.253381\n",
       "16042     2.546337\n",
       "16043     1.755990\n",
       "16044     3.105214\n",
       "16045     1.442334\n",
       "16046     1.756779\n",
       "16047     0.780375\n",
       "16048     3.713784\n",
       "16049     4.806617\n",
       "16050     1.886438\n",
       "16051     3.756046\n",
       "16052     1.432945\n",
       "16053     0.881922\n",
       "16054     1.431465\n",
       "16055    14.022308\n",
       "16057     1.232410\n",
       "16058     1.166085\n",
       "16059     1.801638\n",
       "16060     5.890958\n",
       "16061     3.357490\n",
       "16062     0.850044\n",
       "16063     7.867638\n",
       "16064     1.469105\n",
       "16065     2.590036\n",
       "Length: 15563, dtype: float64"
      ]
     },
     "execution_count": 829,
     "metadata": {},
     "output_type": "execute_result"
    }
   ],
   "source": [
    "harvesine_distance('pickup_latitude', 'pickup_longitude', 'dropoff_latitude', 'dropoff_longitude')"
   ]
  },
  {
   "cell_type": "code",
   "execution_count": 830,
   "metadata": {},
   "outputs": [
    {
     "data": {
      "text/html": [
       "<div>\n",
       "<style scoped>\n",
       "    .dataframe tbody tr th:only-of-type {\n",
       "        vertical-align: middle;\n",
       "    }\n",
       "\n",
       "    .dataframe tbody tr th {\n",
       "        vertical-align: top;\n",
       "    }\n",
       "\n",
       "    .dataframe thead th {\n",
       "        text-align: right;\n",
       "    }\n",
       "</style>\n",
       "<table border=\"1\" class=\"dataframe\">\n",
       "  <thead>\n",
       "    <tr style=\"text-align: right;\">\n",
       "      <th>Variables</th>\n",
       "      <th>pickup_datetime</th>\n",
       "      <th>pickup_longitude</th>\n",
       "      <th>pickup_latitude</th>\n",
       "      <th>dropoff_longitude</th>\n",
       "      <th>dropoff_latitude</th>\n",
       "      <th>passenger_count</th>\n",
       "      <th>fare_amount</th>\n",
       "      <th>year</th>\n",
       "      <th>Month</th>\n",
       "      <th>Date</th>\n",
       "      <th>Day</th>\n",
       "      <th>Hour</th>\n",
       "      <th>Minute</th>\n",
       "      <th>H_Distance</th>\n",
       "    </tr>\n",
       "  </thead>\n",
       "  <tbody>\n",
       "    <tr>\n",
       "      <th>0</th>\n",
       "      <td>2009-06-15 17:26:21</td>\n",
       "      <td>-73.844311</td>\n",
       "      <td>40.721319</td>\n",
       "      <td>-73.841610</td>\n",
       "      <td>40.712278</td>\n",
       "      <td>1.0</td>\n",
       "      <td>4.5</td>\n",
       "      <td>2009</td>\n",
       "      <td>6</td>\n",
       "      <td>15</td>\n",
       "      <td>0</td>\n",
       "      <td>17</td>\n",
       "      <td>26</td>\n",
       "      <td>1.030764</td>\n",
       "    </tr>\n",
       "    <tr>\n",
       "      <th>1</th>\n",
       "      <td>2010-01-05 16:52:16</td>\n",
       "      <td>-74.016048</td>\n",
       "      <td>40.711303</td>\n",
       "      <td>-73.979268</td>\n",
       "      <td>40.782004</td>\n",
       "      <td>1.0</td>\n",
       "      <td>16.9</td>\n",
       "      <td>2010</td>\n",
       "      <td>1</td>\n",
       "      <td>5</td>\n",
       "      <td>1</td>\n",
       "      <td>16</td>\n",
       "      <td>52</td>\n",
       "      <td>8.450134</td>\n",
       "    </tr>\n",
       "    <tr>\n",
       "      <th>2</th>\n",
       "      <td>2011-08-18 00:35:00</td>\n",
       "      <td>-73.982738</td>\n",
       "      <td>40.761270</td>\n",
       "      <td>-73.991242</td>\n",
       "      <td>40.750562</td>\n",
       "      <td>2.0</td>\n",
       "      <td>5.7</td>\n",
       "      <td>2011</td>\n",
       "      <td>8</td>\n",
       "      <td>18</td>\n",
       "      <td>3</td>\n",
       "      <td>0</td>\n",
       "      <td>35</td>\n",
       "      <td>1.389525</td>\n",
       "    </tr>\n",
       "    <tr>\n",
       "      <th>3</th>\n",
       "      <td>2012-04-21 04:30:42</td>\n",
       "      <td>-73.987130</td>\n",
       "      <td>40.733143</td>\n",
       "      <td>-73.991567</td>\n",
       "      <td>40.758092</td>\n",
       "      <td>1.0</td>\n",
       "      <td>7.7</td>\n",
       "      <td>2012</td>\n",
       "      <td>4</td>\n",
       "      <td>21</td>\n",
       "      <td>5</td>\n",
       "      <td>4</td>\n",
       "      <td>30</td>\n",
       "      <td>2.799270</td>\n",
       "    </tr>\n",
       "    <tr>\n",
       "      <th>4</th>\n",
       "      <td>2010-03-09 07:51:00</td>\n",
       "      <td>-73.968095</td>\n",
       "      <td>40.768008</td>\n",
       "      <td>-73.956655</td>\n",
       "      <td>40.783762</td>\n",
       "      <td>1.0</td>\n",
       "      <td>5.3</td>\n",
       "      <td>2010</td>\n",
       "      <td>3</td>\n",
       "      <td>9</td>\n",
       "      <td>1</td>\n",
       "      <td>7</td>\n",
       "      <td>51</td>\n",
       "      <td>1.999157</td>\n",
       "    </tr>\n",
       "  </tbody>\n",
       "</table>\n",
       "</div>"
      ],
      "text/plain": [
       "Variables     pickup_datetime  pickup_longitude  pickup_latitude  \\\n",
       "0         2009-06-15 17:26:21        -73.844311        40.721319   \n",
       "1         2010-01-05 16:52:16        -74.016048        40.711303   \n",
       "2         2011-08-18 00:35:00        -73.982738        40.761270   \n",
       "3         2012-04-21 04:30:42        -73.987130        40.733143   \n",
       "4         2010-03-09 07:51:00        -73.968095        40.768008   \n",
       "\n",
       "Variables  dropoff_longitude  dropoff_latitude  passenger_count  fare_amount  \\\n",
       "0                 -73.841610         40.712278              1.0          4.5   \n",
       "1                 -73.979268         40.782004              1.0         16.9   \n",
       "2                 -73.991242         40.750562              2.0          5.7   \n",
       "3                 -73.991567         40.758092              1.0          7.7   \n",
       "4                 -73.956655         40.783762              1.0          5.3   \n",
       "\n",
       "Variables  year  Month  Date  Day  Hour  Minute  H_Distance  \n",
       "0          2009      6    15    0    17      26    1.030764  \n",
       "1          2010      1     5    1    16      52    8.450134  \n",
       "2          2011      8    18    3     0      35    1.389525  \n",
       "3          2012      4    21    5     4      30    2.799270  \n",
       "4          2010      3     9    1     7      51    1.999157  "
      ]
     },
     "execution_count": 830,
     "metadata": {},
     "output_type": "execute_result"
    }
   ],
   "source": [
    "car_data.head()"
   ]
  },
  {
   "cell_type": "code",
   "execution_count": 845,
   "metadata": {},
   "outputs": [
    {
     "data": {
      "image/png": "[encoded data removed]",
      "text/plain": [
       "<matplotlib.figure.Figure at 0x155ddb00>"
      ]
     },
     "metadata": {},
     "output_type": "display_data"
    }
   ],
   "source": [
    "plt.figure(figsize=(12,5))\n",
    "ax=plt.scatter(x = car_data['passenger_count'], y = \"fare_amount\", data = car_data)"
   ]
  },
  {
   "cell_type": "code",
   "execution_count": 843,
   "metadata": {},
   "outputs": [
    {
     "data": {
      "image/png": "[encoded data removed]",
      "text/plain": [
       "<matplotlib.figure.Figure at 0x1559b278>"
      ]
     },
     "metadata": {},
     "output_type": "display_data"
    }
   ],
   "source": [
    "plt.figure(figsize=(12,5))\n",
    "ad=plt.scatter(x =\"Date\" , y =car_data['fare_amount'] , data = car_data)"
   ]
  },
  {
   "cell_type": "code",
   "execution_count": 844,
   "metadata": {},
   "outputs": [
    {
     "data": {
      "image/png": "[encoded data removed]",
      "text/plain": [
       "<matplotlib.figure.Figure at 0x15603c88>"
      ]
     },
     "metadata": {},
     "output_type": "display_data"
    }
   ],
   "source": [
    "plt.figure(figsize=(12,5))\n",
    "ah=plt.scatter(x =\"Hour\" , y =car_data['fare_amount'] , data = car_data)"
   ]
  },
  {
   "cell_type": "code",
   "execution_count": 848,
   "metadata": {},
   "outputs": [
    {
     "data": {
      "text/plain": [
       "Text(0,0.5,'fare_amount')"
      ]
     },
     "execution_count": 848,
     "metadata": {},
     "output_type": "execute_result"
    },
    {
     "data": {
      "image/png": "[encoded data removed]",
      "text/plain": [
       "<matplotlib.figure.Figure at 0x1c2a3ef0>"
      ]
     },
     "metadata": {},
     "output_type": "display_data"
    }
   ],
   "source": [
    "plt.figure(figsize=(12,5))\n",
    "ah=plt.scatter(x =\"H_Distance\" , y =car_data['fare_amount'] , data = car_data)\n",
    "plt.xlabel(\"Distance\")\n",
    "plt.ylabel(\"fare_amount\")"
   ]
  },
  {
   "cell_type": "code",
   "execution_count": 856,
   "metadata": {},
   "outputs": [],
   "source": [
    "car_data= car_data.drop(car_data[car_data.loc[:,'H_Distance']>50].index)\n",
    "car_data= car_data.drop(car_data[car_data.loc[:,'H_Distance']==0].index)"
   ]
  },
  {
   "cell_type": "code",
   "execution_count": 857,
   "metadata": {},
   "outputs": [
    {
     "data": {
      "text/plain": [
       "Text(0,0.5,'fare_amount')"
      ]
     },
     "execution_count": 857,
     "metadata": {},
     "output_type": "execute_result"
    },
    {
     "data": {
      "image/png": "[encoded data removed]",
      "text/plain": [
       "<matplotlib.figure.Figure at 0x1c338710>"
      ]
     },
     "metadata": {},
     "output_type": "display_data"
    }
   ],
   "source": [
    "plt.figure(figsize=(12,5))\n",
    "ah=plt.scatter(x =\"H_Distance\" , y =car_data['fare_amount'] , data = car_data)\n",
    "plt.xlabel(\"Distance\")\n",
    "plt.ylabel(\"fare_amount\")"
   ]
  },
  {
   "cell_type": "code",
   "execution_count": 858,
   "metadata": {},
   "outputs": [
    {
     "data": {
      "text/plain": [
       "(15398, 14)"
      ]
     },
     "execution_count": 858,
     "metadata": {},
     "output_type": "execute_result"
    }
   ],
   "source": [
    "car_data.shape"
   ]
  },
  {
   "cell_type": "code",
   "execution_count": 859,
   "metadata": {},
   "outputs": [
    {
     "data": {
      "text/plain": [
       "Index(['pickup_datetime', 'pickup_longitude', 'pickup_latitude',\n",
       "       'dropoff_longitude', 'dropoff_latitude', 'passenger_count',\n",
       "       'fare_amount', 'year', 'Month', 'Date', 'Day', 'Hour', 'Minute',\n",
       "       'H_Distance'],\n",
       "      dtype='object', name='Variables')"
      ]
     },
     "execution_count": 859,
     "metadata": {},
     "output_type": "execute_result"
    }
   ],
   "source": [
    "car_data.columns"
   ]
  },
  {
   "cell_type": "code",
   "execution_count": 861,
   "metadata": {},
   "outputs": [],
   "source": [
    "features = ['pickup_longitude', 'pickup_latitude',\n",
    "       'dropoff_longitude', 'dropoff_latitude', 'passenger_count',\n",
    "        'year', 'Month', 'Date', 'Day', 'Hour', 'Minute',\n",
    "       'H_Distance']"
   ]
  },
  {
   "cell_type": "code",
   "execution_count": 862,
   "metadata": {},
   "outputs": [],
   "source": [
    "X = car_data[features]\n",
    "y = car_data.fare_amount"
   ]
  },
  {
   "cell_type": "code",
   "execution_count": 863,
   "metadata": {},
   "outputs": [],
   "source": [
    "X_train,X_test,y_train,y_test = train_test_split(X,y)"
   ]
  },
  {
   "cell_type": "code",
   "execution_count": 864,
   "metadata": {},
   "outputs": [],
   "source": [
    "from sklearn import linear_model as lm"
   ]
  },
  {
   "cell_type": "code",
   "execution_count": 867,
   "metadata": {},
   "outputs": [
    {
     "data": {
      "text/plain": [
       "LinearRegression(copy_X=True, fit_intercept=True, n_jobs=1, normalize=False)"
      ]
     },
     "execution_count": 867,
     "metadata": {},
     "output_type": "execute_result"
    }
   ],
   "source": [
    "model_lm = lm.LinearRegression()\n",
    "model_lm.fit(X_train,y_train)"
   ]
  },
  {
   "cell_type": "code",
   "execution_count": 869,
   "metadata": {},
   "outputs": [],
   "source": [
    "pred_lm = model_lm.predict(X_test)"
   ]
  },
  {
   "cell_type": "code",
   "execution_count": 879,
   "metadata": {},
   "outputs": [],
   "source": [
    "def MAPE(y_test,y_predict):\n",
    "    mape = np.mean(np.abs(y_test-y_predict)/y_test)*100\n",
    "    print(\"Mean absolute percentage error is: \",round(mape,2),\"%\")\n",
    "    return mape"
   ]
  },
  {
   "cell_type": "code",
   "execution_count": 880,
   "metadata": {},
   "outputs": [],
   "source": [
    "def RMSE(y_test,y_predict):\n",
    "    mse = np.mean((y_test-y_predict)**2)\n",
    "    print(\"Mean Square : \",mse)\n",
    "    rmse=np.sqrt(mse)\n",
    "    print(\"Root Mean Square : \",rmse)\n",
    "    return rmse"
   ]
  },
  {
   "cell_type": "code",
   "execution_count": 881,
   "metadata": {},
   "outputs": [
    {
     "name": "stdout",
     "output_type": "stream",
     "text": [
      "Mean absolute percentage error is:  20.45 %\n",
      "Mean Square :  18.762721809126674\n",
      "Root Mean Square :  4.331595757815666\n"
     ]
    },
    {
     "data": {
      "text/plain": [
       "4.331595757815666"
      ]
     },
     "execution_count": 881,
     "metadata": {},
     "output_type": "execute_result"
    }
   ],
   "source": [
    "MAPE(y_test,pred_lm)\n",
    "RMSE(y_test,pred_lm)"
   ]
  },
  {
   "cell_type": "code",
   "execution_count": null,
   "metadata": {},
   "outputs": [],
   "source": []
  }
 ],
 "metadata": {
  "kernelspec": {
   "display_name": "Python 3",
   "language": "python",
   "name": "python3"
  },
  "language_info": {
   "codemirror_mode": {
    "name": "ipython",
    "version": 3
   },
   "file_extension": ".py",
   "mimetype": "text/x-python",
   "name": "python",
   "nbconvert_exporter": "python",
   "pygments_lexer": "ipython3",
   "version": "3.6.4"
  }
 },
 "nbformat": 4,
 "nbformat_minor": 2
}
