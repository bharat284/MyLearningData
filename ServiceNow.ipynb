{
 "cells": [
  {
   "cell_type": "code",
   "execution_count": 2,
   "metadata": {},
   "outputs": [],
   "source": [
    "import os\n",
    "import pandas as pd\n",
    "import numpy as np"
   ]
  },
  {
   "cell_type": "code",
   "execution_count": 8,
   "metadata": {},
   "outputs": [
    {
     "data": {
      "text/plain": [
       "'C:\\\\Users\\\\SAI KRUPA\\\\Desktop\\\\Master\\\\stories'"
      ]
     },
     "execution_count": 8,
     "metadata": {},
     "output_type": "execute_result"
    }
   ],
   "source": [
    "os.getcwd()\n",
    "os.chdir(\"C:\\\\Users\\\\SAI KRUPA\\\\Desktop\\\\Master\\\\stories\")\n",
    "os.getcwd()"
   ]
  },
  {
   "cell_type": "code",
   "execution_count": 10,
   "metadata": {},
   "outputs": [],
   "source": [
    "news = pd.read_csv(\"stories.csv\")"
   ]
  },
  {
   "cell_type": "code",
   "execution_count": 12,
   "metadata": {},
   "outputs": [
    {
     "data": {
      "text/html": [
       "<div>\n",
       "<style scoped>\n",
       "    .dataframe tbody tr th:only-of-type {\n",
       "        vertical-align: middle;\n",
       "    }\n",
       "\n",
       "    .dataframe tbody tr th {\n",
       "        vertical-align: top;\n",
       "    }\n",
       "\n",
       "    .dataframe thead th {\n",
       "        text-align: right;\n",
       "    }\n",
       "</style>\n",
       "<table border=\"1\" class=\"dataframe\">\n",
       "  <thead>\n",
       "    <tr style=\"text-align: right;\">\n",
       "      <th></th>\n",
       "      <th>9079978</th>\n",
       "      <th>2015-02-20T11:29:58.000Z</th>\n",
       "      <th>1424431798</th>\n",
       "      <th>Immortalin</th>\n",
       "      <th>2</th>\n",
       "      <th>Unnamed: 5</th>\n",
       "      <th>0</th>\n",
       "      <th>Ask HN: Simple SaaS as first Golang web app?</th>\n",
       "    </tr>\n",
       "  </thead>\n",
       "  <tbody>\n",
       "    <tr>\n",
       "      <th>0</th>\n",
       "      <td>9079983</td>\n",
       "      <td>2015-02-20T11:34:22.000Z</td>\n",
       "      <td>1424432062</td>\n",
       "      <td>Rutger24s</td>\n",
       "      <td>1</td>\n",
       "      <td>startupjuncture.com</td>\n",
       "      <td>0</td>\n",
       "      <td>24sessions: live business advice over video-chat</td>\n",
       "    </tr>\n",
       "    <tr>\n",
       "      <th>1</th>\n",
       "      <td>9079986</td>\n",
       "      <td>2015-02-20T11:35:32.000Z</td>\n",
       "      <td>1424432132</td>\n",
       "      <td>AndrewDucker</td>\n",
       "      <td>3</td>\n",
       "      <td>blog.erratasec.com</td>\n",
       "      <td>0</td>\n",
       "      <td>Some notes on SuperFish</td>\n",
       "    </tr>\n",
       "    <tr>\n",
       "      <th>2</th>\n",
       "      <td>9079988</td>\n",
       "      <td>2015-02-20T11:36:18.000Z</td>\n",
       "      <td>1424432178</td>\n",
       "      <td>davidiach</td>\n",
       "      <td>1</td>\n",
       "      <td>twitter.com</td>\n",
       "      <td>0</td>\n",
       "      <td>Apple Watch models could contain 29.16g of gold</td>\n",
       "    </tr>\n",
       "    <tr>\n",
       "      <th>3</th>\n",
       "      <td>9080000</td>\n",
       "      <td>2015-02-20T11:41:06.000Z</td>\n",
       "      <td>1424432466</td>\n",
       "      <td>CiaranR</td>\n",
       "      <td>1</td>\n",
       "      <td>phpconference.co.uk</td>\n",
       "      <td>0</td>\n",
       "      <td>PHP UK Conference Diversity Scholarship Programme</td>\n",
       "    </tr>\n",
       "    <tr>\n",
       "      <th>4</th>\n",
       "      <td>9080006</td>\n",
       "      <td>2015-02-20T11:43:04.000Z</td>\n",
       "      <td>1424432584</td>\n",
       "      <td>mstolpm</td>\n",
       "      <td>2</td>\n",
       "      <td>preview.onedrive.com</td>\n",
       "      <td>2</td>\n",
       "      <td>Microsoft giving away 100GB free OneDrive stor...</td>\n",
       "    </tr>\n",
       "  </tbody>\n",
       "</table>\n",
       "</div>"
      ],
      "text/plain": [
       "   9079978  2015-02-20T11:29:58.000Z  1424431798    Immortalin  2  \\\n",
       "0  9079983  2015-02-20T11:34:22.000Z  1424432062     Rutger24s  1   \n",
       "1  9079986  2015-02-20T11:35:32.000Z  1424432132  AndrewDucker  3   \n",
       "2  9079988  2015-02-20T11:36:18.000Z  1424432178     davidiach  1   \n",
       "3  9080000  2015-02-20T11:41:06.000Z  1424432466       CiaranR  1   \n",
       "4  9080006  2015-02-20T11:43:04.000Z  1424432584       mstolpm  2   \n",
       "\n",
       "             Unnamed: 5  0       Ask HN: Simple SaaS as first Golang web app?  \n",
       "0   startupjuncture.com  0   24sessions: live business advice over video-chat  \n",
       "1    blog.erratasec.com  0                            Some notes on SuperFish  \n",
       "2           twitter.com  0    Apple Watch models could contain 29.16g of gold  \n",
       "3   phpconference.co.uk  0  PHP UK Conference Diversity Scholarship Programme  \n",
       "4  preview.onedrive.com  2  Microsoft giving away 100GB free OneDrive stor...  "
      ]
     },
     "execution_count": 12,
     "metadata": {},
     "output_type": "execute_result"
    }
   ],
   "source": [
    "news.head()"
   ]
  },
  {
   "cell_type": "code",
   "execution_count": 14,
   "metadata": {},
   "outputs": [],
   "source": [
    "news.columns = ['id', 'created_at', 'created_at_i', 'author', 'points', 'url_hostname', 'num_comments', 'title']"
   ]
  },
  {
   "cell_type": "code",
   "execution_count": 16,
   "metadata": {},
   "outputs": [
    {
     "data": {
      "text/html": [
       "<div>\n",
       "<style scoped>\n",
       "    .dataframe tbody tr th:only-of-type {\n",
       "        vertical-align: middle;\n",
       "    }\n",
       "\n",
       "    .dataframe tbody tr th {\n",
       "        vertical-align: top;\n",
       "    }\n",
       "\n",
       "    .dataframe thead th {\n",
       "        text-align: right;\n",
       "    }\n",
       "</style>\n",
       "<table border=\"1\" class=\"dataframe\">\n",
       "  <thead>\n",
       "    <tr style=\"text-align: right;\">\n",
       "      <th></th>\n",
       "      <th>id</th>\n",
       "      <th>created_at</th>\n",
       "      <th>created_at_i</th>\n",
       "      <th>author</th>\n",
       "      <th>points</th>\n",
       "      <th>url_hostname</th>\n",
       "      <th>num_comments</th>\n",
       "      <th>title</th>\n",
       "    </tr>\n",
       "  </thead>\n",
       "  <tbody>\n",
       "    <tr>\n",
       "      <th>0</th>\n",
       "      <td>9079983</td>\n",
       "      <td>2015-02-20T11:34:22.000Z</td>\n",
       "      <td>1424432062</td>\n",
       "      <td>Rutger24s</td>\n",
       "      <td>1</td>\n",
       "      <td>startupjuncture.com</td>\n",
       "      <td>0</td>\n",
       "      <td>24sessions: live business advice over video-chat</td>\n",
       "    </tr>\n",
       "    <tr>\n",
       "      <th>1</th>\n",
       "      <td>9079986</td>\n",
       "      <td>2015-02-20T11:35:32.000Z</td>\n",
       "      <td>1424432132</td>\n",
       "      <td>AndrewDucker</td>\n",
       "      <td>3</td>\n",
       "      <td>blog.erratasec.com</td>\n",
       "      <td>0</td>\n",
       "      <td>Some notes on SuperFish</td>\n",
       "    </tr>\n",
       "    <tr>\n",
       "      <th>2</th>\n",
       "      <td>9079988</td>\n",
       "      <td>2015-02-20T11:36:18.000Z</td>\n",
       "      <td>1424432178</td>\n",
       "      <td>davidiach</td>\n",
       "      <td>1</td>\n",
       "      <td>twitter.com</td>\n",
       "      <td>0</td>\n",
       "      <td>Apple Watch models could contain 29.16g of gold</td>\n",
       "    </tr>\n",
       "    <tr>\n",
       "      <th>3</th>\n",
       "      <td>9080000</td>\n",
       "      <td>2015-02-20T11:41:06.000Z</td>\n",
       "      <td>1424432466</td>\n",
       "      <td>CiaranR</td>\n",
       "      <td>1</td>\n",
       "      <td>phpconference.co.uk</td>\n",
       "      <td>0</td>\n",
       "      <td>PHP UK Conference Diversity Scholarship Programme</td>\n",
       "    </tr>\n",
       "    <tr>\n",
       "      <th>4</th>\n",
       "      <td>9080006</td>\n",
       "      <td>2015-02-20T11:43:04.000Z</td>\n",
       "      <td>1424432584</td>\n",
       "      <td>mstolpm</td>\n",
       "      <td>2</td>\n",
       "      <td>preview.onedrive.com</td>\n",
       "      <td>2</td>\n",
       "      <td>Microsoft giving away 100GB free OneDrive stor...</td>\n",
       "    </tr>\n",
       "  </tbody>\n",
       "</table>\n",
       "</div>"
      ],
      "text/plain": [
       "        id                created_at  created_at_i        author  points  \\\n",
       "0  9079983  2015-02-20T11:34:22.000Z    1424432062     Rutger24s       1   \n",
       "1  9079986  2015-02-20T11:35:32.000Z    1424432132  AndrewDucker       3   \n",
       "2  9079988  2015-02-20T11:36:18.000Z    1424432178     davidiach       1   \n",
       "3  9080000  2015-02-20T11:41:06.000Z    1424432466       CiaranR       1   \n",
       "4  9080006  2015-02-20T11:43:04.000Z    1424432584       mstolpm       2   \n",
       "\n",
       "           url_hostname  num_comments  \\\n",
       "0   startupjuncture.com             0   \n",
       "1    blog.erratasec.com             0   \n",
       "2           twitter.com             0   \n",
       "3   phpconference.co.uk             0   \n",
       "4  preview.onedrive.com             2   \n",
       "\n",
       "                                               title  \n",
       "0   24sessions: live business advice over video-chat  \n",
       "1                            Some notes on SuperFish  \n",
       "2    Apple Watch models could contain 29.16g of gold  \n",
       "3  PHP UK Conference Diversity Scholarship Programme  \n",
       "4  Microsoft giving away 100GB free OneDrive stor...  "
      ]
     },
     "execution_count": 16,
     "metadata": {},
     "output_type": "execute_result"
    }
   ],
   "source": [
    "news.head()"
   ]
  },
  {
   "cell_type": "code",
   "execution_count": 19,
   "metadata": {},
   "outputs": [
    {
     "data": {
      "text/plain": [
       "(1553933, 8)"
      ]
     },
     "execution_count": 19,
     "metadata": {},
     "output_type": "execute_result"
    }
   ],
   "source": [
    "news.shape"
   ]
  },
  {
   "cell_type": "code",
   "execution_count": 27,
   "metadata": {},
   "outputs": [
    {
     "name": "stderr",
     "output_type": "stream",
     "text": [
      "C:\\Users\\SAI KRUPA\\Anaconda3\\lib\\site-packages\\IPython\\core\\interactiveshell.py:2785: DtypeWarning: Columns (7) have mixed types. Specify dtype option on import or set low_memory=False.\n",
      "  interactivity=interactivity, compiler=compiler, result=result)\n"
     ]
    }
   ],
   "source": [
    "comments = pd.read_csv(\"C:\\\\Users\\\\SAI KRUPA\\\\Desktop\\\\Master\\\\comments.7z\\\\comments.csv\")"
   ]
  },
  {
   "cell_type": "code",
   "execution_count": 28,
   "metadata": {},
   "outputs": [],
   "source": [
    "comments.columns= ['id', 'created_at', 'created_at_i', 'author', 'points', 'story_id', 'parent_id', 'url_hostname', 'comment_text']"
   ]
  },
  {
   "cell_type": "code",
   "execution_count": 31,
   "metadata": {},
   "outputs": [],
   "source": [
    "comments['url_hostname'] = comments.astype({'url_hostname' :str })"
   ]
  },
  {
   "cell_type": "code",
   "execution_count": 32,
   "metadata": {},
   "outputs": [
    {
     "data": {
      "text/html": [
       "<div>\n",
       "<style scoped>\n",
       "    .dataframe tbody tr th:only-of-type {\n",
       "        vertical-align: middle;\n",
       "    }\n",
       "\n",
       "    .dataframe tbody tr th {\n",
       "        vertical-align: top;\n",
       "    }\n",
       "\n",
       "    .dataframe thead th {\n",
       "        text-align: right;\n",
       "    }\n",
       "</style>\n",
       "<table border=\"1\" class=\"dataframe\">\n",
       "  <thead>\n",
       "    <tr style=\"text-align: right;\">\n",
       "      <th></th>\n",
       "      <th>id</th>\n",
       "      <th>created_at</th>\n",
       "      <th>created_at_i</th>\n",
       "      <th>author</th>\n",
       "      <th>points</th>\n",
       "      <th>story_id</th>\n",
       "      <th>parent_id</th>\n",
       "      <th>url_hostname</th>\n",
       "      <th>comment_text</th>\n",
       "    </tr>\n",
       "  </thead>\n",
       "  <tbody>\n",
       "    <tr>\n",
       "      <th>0</th>\n",
       "      <td>9426552</td>\n",
       "      <td>2015-04-23T13:39:19.000Z</td>\n",
       "      <td>1429796359</td>\n",
       "      <td>inthewoods</td>\n",
       "      <td>0.0</td>\n",
       "      <td>9426425.0</td>\n",
       "      <td>9426425.0</td>\n",
       "      <td>9426552</td>\n",
       "      <td>I&amp;#x27;m sure car makers are looking at histor...</td>\n",
       "    </tr>\n",
       "    <tr>\n",
       "      <th>1</th>\n",
       "      <td>9426551</td>\n",
       "      <td>2015-04-23T13:39:10.000Z</td>\n",
       "      <td>1429796350</td>\n",
       "      <td>lawnchair_larry</td>\n",
       "      <td>0.0</td>\n",
       "      <td>9425778.0</td>\n",
       "      <td>9425778.0</td>\n",
       "      <td>9426551</td>\n",
       "      <td>I&amp;#x27;m not sure why the comments here are fo...</td>\n",
       "    </tr>\n",
       "    <tr>\n",
       "      <th>2</th>\n",
       "      <td>9426550</td>\n",
       "      <td>2015-04-23T13:39:01.000Z</td>\n",
       "      <td>1429796341</td>\n",
       "      <td>easytiger</td>\n",
       "      <td>0.0</td>\n",
       "      <td>9423545.0</td>\n",
       "      <td>9426184.0</td>\n",
       "      <td>9426550</td>\n",
       "      <td>Makes literally no sense. The c developer woul...</td>\n",
       "    </tr>\n",
       "    <tr>\n",
       "      <th>3</th>\n",
       "      <td>9426549</td>\n",
       "      <td>2015-04-23T13:38:50.000Z</td>\n",
       "      <td>1429796330</td>\n",
       "      <td>smusings</td>\n",
       "      <td>0.0</td>\n",
       "      <td>9425357.0</td>\n",
       "      <td>9425357.0</td>\n",
       "      <td>9426549</td>\n",
       "      <td>I am glad that this article brought up the ele...</td>\n",
       "    </tr>\n",
       "    <tr>\n",
       "      <th>4</th>\n",
       "      <td>9426548</td>\n",
       "      <td>2015-04-23T13:38:32.000Z</td>\n",
       "      <td>1429796312</td>\n",
       "      <td>kristofferR</td>\n",
       "      <td>0.0</td>\n",
       "      <td>9425316.0</td>\n",
       "      <td>9425677.0</td>\n",
       "      <td>9426548</td>\n",
       "      <td>&lt;a href=\"http:&amp;#x2F;&amp;#x2F;en.wikiquote.org&amp;#x2...</td>\n",
       "    </tr>\n",
       "  </tbody>\n",
       "</table>\n",
       "</div>"
      ],
      "text/plain": [
       "        id                created_at  created_at_i           author  points  \\\n",
       "0  9426552  2015-04-23T13:39:19.000Z    1429796359       inthewoods     0.0   \n",
       "1  9426551  2015-04-23T13:39:10.000Z    1429796350  lawnchair_larry     0.0   \n",
       "2  9426550  2015-04-23T13:39:01.000Z    1429796341        easytiger     0.0   \n",
       "3  9426549  2015-04-23T13:38:50.000Z    1429796330         smusings     0.0   \n",
       "4  9426548  2015-04-23T13:38:32.000Z    1429796312      kristofferR     0.0   \n",
       "\n",
       "    story_id  parent_id url_hostname  \\\n",
       "0  9426425.0  9426425.0      9426552   \n",
       "1  9425778.0  9425778.0      9426551   \n",
       "2  9423545.0  9426184.0      9426550   \n",
       "3  9425357.0  9425357.0      9426549   \n",
       "4  9425316.0  9425677.0      9426548   \n",
       "\n",
       "                                        comment_text  \n",
       "0  I&#x27;m sure car makers are looking at histor...  \n",
       "1  I&#x27;m not sure why the comments here are fo...  \n",
       "2  Makes literally no sense. The c developer woul...  \n",
       "3  I am glad that this article brought up the ele...  \n",
       "4  <a href=\"http:&#x2F;&#x2F;en.wikiquote.org&#x2...  "
      ]
     },
     "execution_count": 32,
     "metadata": {},
     "output_type": "execute_result"
    }
   ],
   "source": [
    "comments.head()"
   ]
  },
  {
   "cell_type": "code",
   "execution_count": 33,
   "metadata": {},
   "outputs": [
    {
     "data": {
      "text/plain": [
       "1081.0"
      ]
     },
     "execution_count": 33,
     "metadata": {},
     "output_type": "execute_result"
    }
   ],
   "source": [
    "comments['points'].max()"
   ]
  },
  {
   "cell_type": "code",
   "execution_count": null,
   "metadata": {},
   "outputs": [],
   "source": [
    "comments = write"
   ]
  }
 ],
 "metadata": {
  "kernelspec": {
   "display_name": "Python 3",
   "language": "python",
   "name": "python3"
  },
  "language_info": {
   "codemirror_mode": {
    "name": "ipython",
    "version": 3
   },
   "file_extension": ".py",
   "mimetype": "text/x-python",
   "name": "python",
   "nbconvert_exporter": "python",
   "pygments_lexer": "ipython3",
   "version": "3.7.0"
  }
 },
 "nbformat": 4,
 "nbformat_minor": 2
}
